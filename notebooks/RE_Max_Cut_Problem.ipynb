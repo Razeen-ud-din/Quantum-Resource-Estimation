{
  "nbformat": 4,
  "nbformat_minor": 0,
  "metadata": {
    "colab": {
      "provenance": [],
      "collapsed_sections": [
        "EcWvIkT9NF1P",
        "6DKSy5BFDbTg",
        "p66nGuKjDg1F",
        "BRvAQqQnNepG",
        "Yq-qrC7HDJc3"
      ]
    },
    "kernelspec": {
      "name": "python3",
      "display_name": "Python 3"
    },
    "language_info": {
      "name": "python"
    }
  },
  "cells": [
    {
      "cell_type": "code",
      "execution_count": null,
      "metadata": {
        "colab": {
          "base_uri": "https://localhost:8080/",
          "height": 1000
        },
        "collapsed": true,
        "id": "bqcBChZtB2UX",
        "outputId": "4ea10572-7a73-4c43-87e9-ac71e38e899b"
      },
      "outputs": [
        {
          "output_type": "stream",
          "name": "stdout",
          "text": [
            "Requirement already satisfied: cirq in /usr/local/lib/python3.10/dist-packages (1.4.1)\n",
            "Requirement already satisfied: cirq-aqt==1.4.1 in /usr/local/lib/python3.10/dist-packages (from cirq) (1.4.1)\n",
            "Collecting cirq-core==1.4.1 (from cirq)\n",
            "  Using cached cirq_core-1.4.1-py3-none-any.whl.metadata (1.8 kB)\n",
            "Requirement already satisfied: cirq-google==1.4.1 in /usr/local/lib/python3.10/dist-packages (from cirq) (1.4.1)\n",
            "Requirement already satisfied: cirq-ionq==1.4.1 in /usr/local/lib/python3.10/dist-packages (from cirq) (1.4.1)\n",
            "Requirement already satisfied: cirq-pasqal==1.4.1 in /usr/local/lib/python3.10/dist-packages (from cirq) (1.4.1)\n",
            "Requirement already satisfied: cirq-rigetti==1.4.1 in /usr/local/lib/python3.10/dist-packages (from cirq) (1.4.1)\n",
            "Requirement already satisfied: cirq-web==1.4.1 in /usr/local/lib/python3.10/dist-packages (from cirq) (1.4.1)\n",
            "Requirement already satisfied: requests~=2.18 in /usr/local/lib/python3.10/dist-packages (from cirq-aqt==1.4.1->cirq) (2.32.3)\n",
            "Requirement already satisfied: attrs>=21.3.0 in /usr/local/lib/python3.10/dist-packages (from cirq-core==1.4.1->cirq) (24.2.0)\n",
            "Requirement already satisfied: duet>=0.2.8 in /usr/local/lib/python3.10/dist-packages (from cirq-core==1.4.1->cirq) (0.2.9)\n",
            "Requirement already satisfied: matplotlib~=3.0 in /usr/local/lib/python3.10/dist-packages (from cirq-core==1.4.1->cirq) (3.7.1)\n",
            "Requirement already satisfied: networkx>=2.4 in /usr/local/lib/python3.10/dist-packages (from cirq-core==1.4.1->cirq) (3.3)\n",
            "Requirement already satisfied: numpy~=1.22 in /usr/local/lib/python3.10/dist-packages (from cirq-core==1.4.1->cirq) (1.26.4)\n",
            "Requirement already satisfied: pandas in /usr/local/lib/python3.10/dist-packages (from cirq-core==1.4.1->cirq) (2.1.4)\n",
            "Requirement already satisfied: sortedcontainers~=2.0 in /usr/local/lib/python3.10/dist-packages (from cirq-core==1.4.1->cirq) (2.4.0)\n",
            "Requirement already satisfied: scipy~=1.0 in /usr/local/lib/python3.10/dist-packages (from cirq-core==1.4.1->cirq) (1.12.0)\n",
            "Requirement already satisfied: sympy in /usr/local/lib/python3.10/dist-packages (from cirq-core==1.4.1->cirq) (1.13.1)\n",
            "Requirement already satisfied: typing-extensions>=4.2 in /usr/local/lib/python3.10/dist-packages (from cirq-core==1.4.1->cirq) (4.12.2)\n",
            "Requirement already satisfied: tqdm in /usr/local/lib/python3.10/dist-packages (from cirq-core==1.4.1->cirq) (4.66.5)\n",
            "Requirement already satisfied: google-api-core>=1.14.0 in /usr/local/lib/python3.10/dist-packages (from google-api-core[grpc]>=1.14.0->cirq-google==1.4.1->cirq) (2.19.1)\n",
            "Requirement already satisfied: proto-plus>=1.20.0 in /usr/local/lib/python3.10/dist-packages (from cirq-google==1.4.1->cirq) (1.24.0)\n",
            "Requirement already satisfied: protobuf<5.0.0,>=3.15.0 in /usr/local/lib/python3.10/dist-packages (from cirq-google==1.4.1->cirq) (3.20.3)\n",
            "Requirement already satisfied: pyquil<5.0.0,>=4.11.0 in /usr/local/lib/python3.10/dist-packages (from cirq-rigetti==1.4.1->cirq) (4.14.1)\n",
            "Requirement already satisfied: googleapis-common-protos<2.0.dev0,>=1.56.2 in /usr/local/lib/python3.10/dist-packages (from google-api-core>=1.14.0->google-api-core[grpc]>=1.14.0->cirq-google==1.4.1->cirq) (1.63.2)\n",
            "Requirement already satisfied: google-auth<3.0.dev0,>=2.14.1 in /usr/local/lib/python3.10/dist-packages (from google-api-core>=1.14.0->google-api-core[grpc]>=1.14.0->cirq-google==1.4.1->cirq) (2.27.0)\n",
            "Requirement already satisfied: grpcio<2.0dev,>=1.33.2 in /usr/local/lib/python3.10/dist-packages (from google-api-core[grpc]>=1.14.0->cirq-google==1.4.1->cirq) (1.64.1)\n",
            "Requirement already satisfied: grpcio-status<2.0.dev0,>=1.33.2 in /usr/local/lib/python3.10/dist-packages (from google-api-core[grpc]>=1.14.0->cirq-google==1.4.1->cirq) (1.48.2)\n",
            "Requirement already satisfied: contourpy>=1.0.1 in /usr/local/lib/python3.10/dist-packages (from matplotlib~=3.0->cirq-core==1.4.1->cirq) (1.2.1)\n",
            "Requirement already satisfied: cycler>=0.10 in /usr/local/lib/python3.10/dist-packages (from matplotlib~=3.0->cirq-core==1.4.1->cirq) (0.12.1)\n",
            "Requirement already satisfied: fonttools>=4.22.0 in /usr/local/lib/python3.10/dist-packages (from matplotlib~=3.0->cirq-core==1.4.1->cirq) (4.53.1)\n",
            "Requirement already satisfied: kiwisolver>=1.0.1 in /usr/local/lib/python3.10/dist-packages (from matplotlib~=3.0->cirq-core==1.4.1->cirq) (1.4.5)\n",
            "Requirement already satisfied: packaging>=20.0 in /usr/local/lib/python3.10/dist-packages (from matplotlib~=3.0->cirq-core==1.4.1->cirq) (23.2)\n",
            "Requirement already satisfied: pillow>=6.2.0 in /usr/local/lib/python3.10/dist-packages (from matplotlib~=3.0->cirq-core==1.4.1->cirq) (9.4.0)\n",
            "Requirement already satisfied: pyparsing>=2.3.1 in /usr/local/lib/python3.10/dist-packages (from matplotlib~=3.0->cirq-core==1.4.1->cirq) (3.1.2)\n",
            "Requirement already satisfied: python-dateutil>=2.7 in /usr/local/lib/python3.10/dist-packages (from matplotlib~=3.0->cirq-core==1.4.1->cirq) (2.8.2)\n",
            "Requirement already satisfied: deprecated<2.0.0,>=1.2.14 in /usr/local/lib/python3.10/dist-packages (from pyquil<5.0.0,>=4.11.0->cirq-rigetti==1.4.1->cirq) (1.2.14)\n",
            "Requirement already satisfied: matplotlib-inline<0.2.0,>=0.1.7 in /usr/local/lib/python3.10/dist-packages (from pyquil<5.0.0,>=4.11.0->cirq-rigetti==1.4.1->cirq) (0.1.7)\n",
            "Requirement already satisfied: qcs-sdk-python==0.19.2 in /usr/local/lib/python3.10/dist-packages (from pyquil<5.0.0,>=4.11.0->cirq-rigetti==1.4.1->cirq) (0.19.2)\n",
            "Requirement already satisfied: quil>=0.11.2 in /usr/local/lib/python3.10/dist-packages (from pyquil<5.0.0,>=4.11.0->cirq-rigetti==1.4.1->cirq) (0.11.2)\n",
            "Requirement already satisfied: rpcq<4.0.0,>=3.11.0 in /usr/local/lib/python3.10/dist-packages (from pyquil<5.0.0,>=4.11.0->cirq-rigetti==1.4.1->cirq) (3.11.0)\n",
            "Requirement already satisfied: types-deprecated<2.0.0.0,>=1.2.9.3 in /usr/local/lib/python3.10/dist-packages (from pyquil<5.0.0,>=4.11.0->cirq-rigetti==1.4.1->cirq) (1.2.9.20240311)\n",
            "Requirement already satisfied: charset-normalizer<4,>=2 in /usr/local/lib/python3.10/dist-packages (from requests~=2.18->cirq-aqt==1.4.1->cirq) (3.3.2)\n",
            "Requirement already satisfied: idna<4,>=2.5 in /usr/local/lib/python3.10/dist-packages (from requests~=2.18->cirq-aqt==1.4.1->cirq) (3.7)\n",
            "Requirement already satisfied: urllib3<3,>=1.21.1 in /usr/local/lib/python3.10/dist-packages (from requests~=2.18->cirq-aqt==1.4.1->cirq) (2.0.7)\n",
            "Requirement already satisfied: certifi>=2017.4.17 in /usr/local/lib/python3.10/dist-packages (from requests~=2.18->cirq-aqt==1.4.1->cirq) (2024.7.4)\n",
            "Requirement already satisfied: pytz>=2020.1 in /usr/local/lib/python3.10/dist-packages (from pandas->cirq-core==1.4.1->cirq) (2024.1)\n",
            "Requirement already satisfied: tzdata>=2022.1 in /usr/local/lib/python3.10/dist-packages (from pandas->cirq-core==1.4.1->cirq) (2024.1)\n",
            "Requirement already satisfied: mpmath<1.4,>=1.1.0 in /usr/local/lib/python3.10/dist-packages (from sympy->cirq-core==1.4.1->cirq) (1.3.0)\n",
            "Requirement already satisfied: wrapt<2,>=1.10 in /usr/local/lib/python3.10/dist-packages (from deprecated<2.0.0,>=1.2.14->pyquil<5.0.0,>=4.11.0->cirq-rigetti==1.4.1->cirq) (1.16.0)\n",
            "Requirement already satisfied: cachetools<6.0,>=2.0.0 in /usr/local/lib/python3.10/dist-packages (from google-auth<3.0.dev0,>=2.14.1->google-api-core>=1.14.0->google-api-core[grpc]>=1.14.0->cirq-google==1.4.1->cirq) (5.4.0)\n",
            "Requirement already satisfied: pyasn1-modules>=0.2.1 in /usr/local/lib/python3.10/dist-packages (from google-auth<3.0.dev0,>=2.14.1->google-api-core>=1.14.0->google-api-core[grpc]>=1.14.0->cirq-google==1.4.1->cirq) (0.4.0)\n",
            "Requirement already satisfied: rsa<5,>=3.1.4 in /usr/local/lib/python3.10/dist-packages (from google-auth<3.0.dev0,>=2.14.1->google-api-core>=1.14.0->google-api-core[grpc]>=1.14.0->cirq-google==1.4.1->cirq) (4.9)\n",
            "Requirement already satisfied: traitlets in /usr/local/lib/python3.10/dist-packages (from matplotlib-inline<0.2.0,>=0.1.7->pyquil<5.0.0,>=4.11.0->cirq-rigetti==1.4.1->cirq) (5.7.1)\n",
            "Requirement already satisfied: six>=1.5 in /usr/local/lib/python3.10/dist-packages (from python-dateutil>=2.7->matplotlib~=3.0->cirq-core==1.4.1->cirq) (1.16.0)\n",
            "Requirement already satisfied: msgpack<2.0,>=0.6 in /usr/local/lib/python3.10/dist-packages (from rpcq<4.0.0,>=3.11.0->pyquil<5.0.0,>=4.11.0->cirq-rigetti==1.4.1->cirq) (1.0.8)\n",
            "Requirement already satisfied: python-rapidjson in /usr/local/lib/python3.10/dist-packages (from rpcq<4.0.0,>=3.11.0->pyquil<5.0.0,>=4.11.0->cirq-rigetti==1.4.1->cirq) (1.20)\n",
            "Requirement already satisfied: pyzmq>=17 in /usr/local/lib/python3.10/dist-packages (from rpcq<4.0.0,>=3.11.0->pyquil<5.0.0,>=4.11.0->cirq-rigetti==1.4.1->cirq) (24.0.1)\n",
            "Requirement already satisfied: ruamel.yaml in /usr/local/lib/python3.10/dist-packages (from rpcq<4.0.0,>=3.11.0->pyquil<5.0.0,>=4.11.0->cirq-rigetti==1.4.1->cirq) (0.18.6)\n",
            "Requirement already satisfied: pyasn1<0.7.0,>=0.4.6 in /usr/local/lib/python3.10/dist-packages (from pyasn1-modules>=0.2.1->google-auth<3.0.dev0,>=2.14.1->google-api-core>=1.14.0->google-api-core[grpc]>=1.14.0->cirq-google==1.4.1->cirq) (0.6.0)\n",
            "Requirement already satisfied: ruamel.yaml.clib>=0.2.7 in /usr/local/lib/python3.10/dist-packages (from ruamel.yaml->rpcq<4.0.0,>=3.11.0->pyquil<5.0.0,>=4.11.0->cirq-rigetti==1.4.1->cirq) (0.2.8)\n",
            "Using cached cirq_core-1.4.1-py3-none-any.whl (1.9 MB)\n",
            "Installing collected packages: cirq-core\n",
            "  Attempting uninstall: cirq-core\n",
            "    Found existing installation: cirq-core 1.3.0.dev20231018023458\n",
            "    Uninstalling cirq-core-1.3.0.dev20231018023458:\n",
            "      Successfully uninstalled cirq-core-1.3.0.dev20231018023458\n",
            "\u001b[31mERROR: pip's dependency resolver does not currently take into account all the packages that are installed. This behaviour is the source of the following dependency conflicts.\n",
            "pyliqtr 1.2.0 requires cirq-core==1.3.0.dev20231018023458, but you have cirq-core 1.4.1 which is incompatible.\n",
            "qualtran 0.2.0 requires cirq-core==1.3.0.dev20231018023458, but you have cirq-core 1.4.1 which is incompatible.\u001b[0m\u001b[31m\n",
            "\u001b[0mSuccessfully installed cirq-core-1.4.1\n"
          ]
        },
        {
          "output_type": "display_data",
          "data": {
            "application/vnd.colab-display-data+json": {
              "pip_warning": {
                "packages": [
                  "cirq"
                ]
              },
              "id": "f14d68c89e35469f9de1b763604c95e2"
            }
          },
          "metadata": {}
        }
      ],
      "source": [
        "!pip install cirq"
      ]
    },
    {
      "cell_type": "markdown",
      "source": [
        "# Cirq"
      ],
      "metadata": {
        "id": "Pa7lBFXLC6bQ"
      }
    },
    {
      "cell_type": "markdown",
      "source": [
        "## Example 01"
      ],
      "metadata": {
        "id": "M3TggO4RNTFe"
      }
    },
    {
      "cell_type": "markdown",
      "source": [
        "![path3.png](path3.png)\n",
        "\n"
      ],
      "metadata": {
        "id": "y6SK0wTd2FJo"
      }
    },
    {
      "cell_type": "code",
      "source": [
        "import cirq\n",
        "from cirq import H, Z, X, inverse, CX, CCX\n",
        "s = cirq.Simulator()\n",
        "\n",
        "def oracle_computation():\n",
        "    #edge checking\n",
        "    yield CX(qq[0], qq[3])\n",
        "    yield CX(qq[1], qq[3])\n",
        "    yield CX(qq[1], qq[4])\n",
        "    yield CX(qq[2], qq[4])\n",
        "\n",
        "    #adding qubit 3\n",
        "    yield CX(qq[3], qq[5])\n",
        "\n",
        "    #adding qubit 4\n",
        "    yield CCX(qq[4], qq[5], qq[6])\n",
        "    yield CX(qq[4], qq[5])\n",
        "\n",
        "    #check if b1 is equal to 1 and store the result in the auxillary qubit\n",
        "    yield CX(qq[6], qq[7])\n",
        "\n",
        "def oracle():\n",
        "    yield oracle_computation()\n",
        "    yield Z(qq[7])\n",
        "    yield inverse(oracle_computation())\n",
        "\n",
        "def grover_diffusion():\n",
        "    yield H.on_each(*(qq[:3]))\n",
        "    yield X.on_each(*(qq[:3]))\n",
        "    yield Z(qq[2]).controlled_by(qq[0], qq[1])\n",
        "    yield X.on_each(*(qq[:3]))\n",
        "    yield H.on_each(*(qq[:3]))\n",
        "\n",
        "\n",
        "# the Grover algorithm\n",
        "qq = cirq.LineQubit.range(8)\n",
        "circuit = cirq.Circuit()\n",
        "circuit.append(H.on_each(*(qq[0:3])))\n",
        "\n",
        "for i in range(1):\n",
        "    circuit.append(oracle())\n",
        "    circuit.append(grover_diffusion())\n",
        "\n",
        "circuit.append(cirq.measure(*qq[0:3], key='result'))\n",
        "\n",
        "# determine the statistics of the measurements\n",
        "trials_number = 10_000\n",
        "samples = s.run(circuit, repetitions=trials_number)\n",
        "\n",
        "print(\"Random guess probability:\", 1./2**3)\n",
        "\n",
        "# create an histogram of the result\n",
        "def bitstring(bits):\n",
        "    return \"\".join(str(int(b)) for b in bits)\n",
        "counts = samples.histogram(key=\"result\",fold_func=bitstring)\n",
        "for state, c in counts.items():\n",
        "    print(\"Probability of obsering\", state, \": \" ,c/trials_number)"
      ],
      "metadata": {
        "colab": {
          "base_uri": "https://localhost:8080/"
        },
        "id": "gNHqRhzOB-nl",
        "outputId": "8eb1d2b4-56e2-47c8-add5-edd2411b1fef"
      },
      "execution_count": null,
      "outputs": [
        {
          "output_type": "stream",
          "name": "stdout",
          "text": [
            "Random guess probability: 0.125\n",
            "Probability of obsering 101 :  0.5032\n",
            "Probability of obsering 010 :  0.4968\n"
          ]
        }
      ]
    },
    {
      "cell_type": "code",
      "source": [
        "print(circuit)"
      ],
      "metadata": {
        "colab": {
          "base_uri": "https://localhost:8080/"
        },
        "id": "ZeryXeTcjOhI",
        "outputId": "5f7e1aa4-f7cd-4195-b8ed-2628ff93693a"
      },
      "execution_count": null,
      "outputs": [
        {
          "output_type": "stream",
          "name": "stdout",
          "text": [
            "                  ┌──┐                           ┌──┐   ┌──┐   ┌──┐   ┌──┐\n",
            "0: ───H───@────────────────────────────────────────────────────────────@─────H───X───@───X───H───M('result')───\n",
            "          │                                                            │             │           │\n",
            "1: ───H───┼───@────@─────────────────────────────────────@──────@──────┼H────X───────@───X───H───M─────────────\n",
            "          │   │    │                                     │      │      │             │           │\n",
            "2: ───H───┼───┼────┼─────@─────────────────────────@─────┼H─────┼X─────┼─────────────@───X───H───M─────────────\n",
            "          │   │    │     │                         │     │      │      │\n",
            "3: ───────X───X────┼@────┼────────────────────────@┼─────┼──────X──────X───────────────────────────────────────\n",
            "                   ││    │                        ││     │\n",
            "4: ────────────────X┼────X───@───@───@───────@────┼X─────X─────────────────────────────────────────────────────\n",
            "                    │        │   │   │       │    │\n",
            "5: ─────────────────X────────@───X───X───────@────X────────────────────────────────────────────────────────────\n",
            "                             │               │\n",
            "6: ──────────────────────────X───@───────@───X─────────────────────────────────────────────────────────────────\n",
            "                                 │       │\n",
            "7: ──────────────────────────────X───Z───X─────────────────────────────────────────────────────────────────────\n",
            "                  └──┘                           └──┘   └──┘   └──┘   └──┘\n"
          ]
        }
      ]
    },
    {
      "cell_type": "code",
      "source": [
        "!pip install pyLIQTR"
      ],
      "metadata": {
        "id": "GkNUnPEMMz51",
        "colab": {
          "base_uri": "https://localhost:8080/",
          "height": 1000
        },
        "collapsed": true,
        "outputId": "3cb31a57-126d-4b60-f0ce-e045eec66222"
      },
      "execution_count": null,
      "outputs": [
        {
          "output_type": "stream",
          "name": "stdout",
          "text": [
            "Requirement already satisfied: pyLIQTR in /usr/local/lib/python3.10/dist-packages (1.2.0)\n",
            "Collecting cirq-core==1.3.0.dev20231018023458 (from pyLIQTR)\n",
            "  Using cached cirq_core-1.3.0.dev20231018023458-py3-none-any.whl.metadata (2.1 kB)\n",
            "Requirement already satisfied: qualtran==0.2.0 in /usr/local/lib/python3.10/dist-packages (from pyLIQTR) (0.2.0)\n",
            "Requirement already satisfied: ipykernel in /usr/local/lib/python3.10/dist-packages (from pyLIQTR) (5.5.6)\n",
            "Requirement already satisfied: numpy in /usr/local/lib/python3.10/dist-packages (from pyLIQTR) (1.26.4)\n",
            "Requirement already satisfied: pandas in /usr/local/lib/python3.10/dist-packages (from pyLIQTR) (2.1.4)\n",
            "Requirement already satisfied: scipy<1.13.0 in /usr/local/lib/python3.10/dist-packages (from pyLIQTR) (1.12.0)\n",
            "Requirement already satisfied: matplotlib in /usr/local/lib/python3.10/dist-packages (from pyLIQTR) (3.7.1)\n",
            "Requirement already satisfied: tqdm in /usr/local/lib/python3.10/dist-packages (from pyLIQTR) (4.66.5)\n",
            "Requirement already satisfied: openfermion in /usr/local/lib/python3.10/dist-packages (from pyLIQTR) (1.6.1)\n",
            "Requirement already satisfied: portalocker in /usr/local/lib/python3.10/dist-packages (from pyLIQTR) (2.10.1)\n",
            "Requirement already satisfied: ply in /usr/local/lib/python3.10/dist-packages (from pyLIQTR) (3.11)\n",
            "Requirement already satisfied: gmpy2 in /usr/local/lib/python3.10/dist-packages (from pyLIQTR) (2.2.1)\n",
            "Requirement already satisfied: networkx in /usr/local/lib/python3.10/dist-packages (from pyLIQTR) (3.3)\n",
            "Requirement already satisfied: juliacall in /usr/local/lib/python3.10/dist-packages (from pyLIQTR) (0.9.22)\n",
            "Requirement already satisfied: juliapkg in /usr/local/lib/python3.10/dist-packages (from pyLIQTR) (0.1.13)\n",
            "Requirement already satisfied: duet~=0.2.8 in /usr/local/lib/python3.10/dist-packages (from cirq-core==1.3.0.dev20231018023458->pyLIQTR) (0.2.9)\n",
            "Requirement already satisfied: sortedcontainers~=2.0 in /usr/local/lib/python3.10/dist-packages (from cirq-core==1.3.0.dev20231018023458->pyLIQTR) (2.4.0)\n",
            "Requirement already satisfied: sympy in /usr/local/lib/python3.10/dist-packages (from cirq-core==1.3.0.dev20231018023458->pyLIQTR) (1.13.1)\n",
            "Requirement already satisfied: typing-extensions>=4.2 in /usr/local/lib/python3.10/dist-packages (from cirq-core==1.3.0.dev20231018023458->pyLIQTR) (4.12.2)\n",
            "Requirement already satisfied: attrs in /usr/local/lib/python3.10/dist-packages (from qualtran==0.2.0->pyLIQTR) (24.2.0)\n",
            "Requirement already satisfied: cachetools>=5.3 in /usr/local/lib/python3.10/dist-packages (from qualtran==0.2.0->pyLIQTR) (5.4.0)\n",
            "Requirement already satisfied: nbconvert in /usr/local/lib/python3.10/dist-packages (from qualtran==0.2.0->pyLIQTR) (6.5.4)\n",
            "Requirement already satisfied: nbformat in /usr/local/lib/python3.10/dist-packages (from qualtran==0.2.0->pyLIQTR) (5.10.4)\n",
            "Requirement already satisfied: pydot in /usr/local/lib/python3.10/dist-packages (from qualtran==0.2.0->pyLIQTR) (1.4.2)\n",
            "Requirement already satisfied: ipython in /usr/local/lib/python3.10/dist-packages (from qualtran==0.2.0->pyLIQTR) (7.34.0)\n",
            "Requirement already satisfied: ipywidgets in /usr/local/lib/python3.10/dist-packages (from qualtran==0.2.0->pyLIQTR) (7.7.1)\n",
            "Requirement already satisfied: quimb in /usr/local/lib/python3.10/dist-packages (from qualtran==0.2.0->pyLIQTR) (1.8.4)\n",
            "Requirement already satisfied: protobuf in /usr/local/lib/python3.10/dist-packages (from qualtran==0.2.0->pyLIQTR) (3.20.3)\n",
            "Requirement already satisfied: contourpy>=1.0.1 in /usr/local/lib/python3.10/dist-packages (from matplotlib->pyLIQTR) (1.2.1)\n",
            "Requirement already satisfied: cycler>=0.10 in /usr/local/lib/python3.10/dist-packages (from matplotlib->pyLIQTR) (0.12.1)\n",
            "Requirement already satisfied: fonttools>=4.22.0 in /usr/local/lib/python3.10/dist-packages (from matplotlib->pyLIQTR) (4.53.1)\n",
            "Requirement already satisfied: kiwisolver>=1.0.1 in /usr/local/lib/python3.10/dist-packages (from matplotlib->pyLIQTR) (1.4.5)\n",
            "Requirement already satisfied: packaging>=20.0 in /usr/local/lib/python3.10/dist-packages (from matplotlib->pyLIQTR) (23.2)\n",
            "Requirement already satisfied: pillow>=6.2.0 in /usr/local/lib/python3.10/dist-packages (from matplotlib->pyLIQTR) (9.4.0)\n",
            "Requirement already satisfied: pyparsing>=2.3.1 in /usr/local/lib/python3.10/dist-packages (from matplotlib->pyLIQTR) (3.1.2)\n",
            "Requirement already satisfied: python-dateutil>=2.7 in /usr/local/lib/python3.10/dist-packages (from matplotlib->pyLIQTR) (2.8.2)\n",
            "Requirement already satisfied: ipython-genutils in /usr/local/lib/python3.10/dist-packages (from ipykernel->pyLIQTR) (0.2.0)\n",
            "Requirement already satisfied: traitlets>=4.1.0 in /usr/local/lib/python3.10/dist-packages (from ipykernel->pyLIQTR) (5.7.1)\n",
            "Requirement already satisfied: jupyter-client in /usr/local/lib/python3.10/dist-packages (from ipykernel->pyLIQTR) (6.1.12)\n",
            "Requirement already satisfied: tornado>=4.2 in /usr/local/lib/python3.10/dist-packages (from ipykernel->pyLIQTR) (6.3.3)\n",
            "Requirement already satisfied: semver~=3.0 in /usr/local/lib/python3.10/dist-packages (from juliapkg->pyLIQTR) (3.0.2)\n",
            "Requirement already satisfied: deprecation in /usr/local/lib/python3.10/dist-packages (from openfermion->pyLIQTR) (2.1.0)\n",
            "Requirement already satisfied: h5py>=2.8 in /usr/local/lib/python3.10/dist-packages (from openfermion->pyLIQTR) (3.11.0)\n",
            "Requirement already satisfied: pubchempy in /usr/local/lib/python3.10/dist-packages (from openfermion->pyLIQTR) (1.0.4)\n",
            "Requirement already satisfied: requests>=2.18 in /usr/local/lib/python3.10/dist-packages (from openfermion->pyLIQTR) (2.32.3)\n",
            "Requirement already satisfied: pytz>=2020.1 in /usr/local/lib/python3.10/dist-packages (from pandas->pyLIQTR) (2024.1)\n",
            "Requirement already satisfied: tzdata>=2022.1 in /usr/local/lib/python3.10/dist-packages (from pandas->pyLIQTR) (2024.1)\n",
            "Requirement already satisfied: setuptools>=18.5 in /usr/local/lib/python3.10/dist-packages (from ipython->qualtran==0.2.0->pyLIQTR) (71.0.4)\n",
            "Requirement already satisfied: jedi>=0.16 in /usr/local/lib/python3.10/dist-packages (from ipython->qualtran==0.2.0->pyLIQTR) (0.19.1)\n",
            "Requirement already satisfied: decorator in /usr/local/lib/python3.10/dist-packages (from ipython->qualtran==0.2.0->pyLIQTR) (4.4.2)\n",
            "Requirement already satisfied: pickleshare in /usr/local/lib/python3.10/dist-packages (from ipython->qualtran==0.2.0->pyLIQTR) (0.7.5)\n",
            "Requirement already satisfied: prompt-toolkit!=3.0.0,!=3.0.1,<3.1.0,>=2.0.0 in /usr/local/lib/python3.10/dist-packages (from ipython->qualtran==0.2.0->pyLIQTR) (3.0.47)\n",
            "Requirement already satisfied: pygments in /usr/local/lib/python3.10/dist-packages (from ipython->qualtran==0.2.0->pyLIQTR) (2.16.1)\n",
            "Requirement already satisfied: backcall in /usr/local/lib/python3.10/dist-packages (from ipython->qualtran==0.2.0->pyLIQTR) (0.2.0)\n",
            "Requirement already satisfied: matplotlib-inline in /usr/local/lib/python3.10/dist-packages (from ipython->qualtran==0.2.0->pyLIQTR) (0.1.7)\n",
            "Requirement already satisfied: pexpect>4.3 in /usr/local/lib/python3.10/dist-packages (from ipython->qualtran==0.2.0->pyLIQTR) (4.9.0)\n",
            "Requirement already satisfied: six>=1.5 in /usr/local/lib/python3.10/dist-packages (from python-dateutil>=2.7->matplotlib->pyLIQTR) (1.16.0)\n",
            "Requirement already satisfied: charset-normalizer<4,>=2 in /usr/local/lib/python3.10/dist-packages (from requests>=2.18->openfermion->pyLIQTR) (3.3.2)\n",
            "Requirement already satisfied: idna<4,>=2.5 in /usr/local/lib/python3.10/dist-packages (from requests>=2.18->openfermion->pyLIQTR) (3.7)\n",
            "Requirement already satisfied: urllib3<3,>=1.21.1 in /usr/local/lib/python3.10/dist-packages (from requests>=2.18->openfermion->pyLIQTR) (2.0.7)\n",
            "Requirement already satisfied: certifi>=2017.4.17 in /usr/local/lib/python3.10/dist-packages (from requests>=2.18->openfermion->pyLIQTR) (2024.7.4)\n",
            "Requirement already satisfied: widgetsnbextension~=3.6.0 in /usr/local/lib/python3.10/dist-packages (from ipywidgets->qualtran==0.2.0->pyLIQTR) (3.6.8)\n",
            "Requirement already satisfied: jupyterlab-widgets>=1.0.0 in /usr/local/lib/python3.10/dist-packages (from ipywidgets->qualtran==0.2.0->pyLIQTR) (3.0.11)\n",
            "Requirement already satisfied: jupyter-core>=4.6.0 in /usr/local/lib/python3.10/dist-packages (from jupyter-client->ipykernel->pyLIQTR) (5.7.2)\n",
            "Requirement already satisfied: pyzmq>=13 in /usr/local/lib/python3.10/dist-packages (from jupyter-client->ipykernel->pyLIQTR) (24.0.1)\n",
            "Requirement already satisfied: lxml in /usr/local/lib/python3.10/dist-packages (from nbconvert->qualtran==0.2.0->pyLIQTR) (4.9.4)\n",
            "Requirement already satisfied: beautifulsoup4 in /usr/local/lib/python3.10/dist-packages (from nbconvert->qualtran==0.2.0->pyLIQTR) (4.12.3)\n",
            "Requirement already satisfied: bleach in /usr/local/lib/python3.10/dist-packages (from nbconvert->qualtran==0.2.0->pyLIQTR) (6.1.0)\n",
            "Requirement already satisfied: defusedxml in /usr/local/lib/python3.10/dist-packages (from nbconvert->qualtran==0.2.0->pyLIQTR) (0.7.1)\n",
            "Requirement already satisfied: entrypoints>=0.2.2 in /usr/local/lib/python3.10/dist-packages (from nbconvert->qualtran==0.2.0->pyLIQTR) (0.4)\n",
            "Requirement already satisfied: jinja2>=3.0 in /usr/local/lib/python3.10/dist-packages (from nbconvert->qualtran==0.2.0->pyLIQTR) (3.1.4)\n",
            "Requirement already satisfied: jupyterlab-pygments in /usr/local/lib/python3.10/dist-packages (from nbconvert->qualtran==0.2.0->pyLIQTR) (0.3.0)\n",
            "Requirement already satisfied: MarkupSafe>=2.0 in /usr/local/lib/python3.10/dist-packages (from nbconvert->qualtran==0.2.0->pyLIQTR) (2.1.5)\n",
            "Requirement already satisfied: mistune<2,>=0.8.1 in /usr/local/lib/python3.10/dist-packages (from nbconvert->qualtran==0.2.0->pyLIQTR) (0.8.4)\n",
            "Requirement already satisfied: nbclient>=0.5.0 in /usr/local/lib/python3.10/dist-packages (from nbconvert->qualtran==0.2.0->pyLIQTR) (0.10.0)\n",
            "Requirement already satisfied: pandocfilters>=1.4.1 in /usr/local/lib/python3.10/dist-packages (from nbconvert->qualtran==0.2.0->pyLIQTR) (1.5.1)\n",
            "Requirement already satisfied: tinycss2 in /usr/local/lib/python3.10/dist-packages (from nbconvert->qualtran==0.2.0->pyLIQTR) (1.3.0)\n",
            "Requirement already satisfied: fastjsonschema>=2.15 in /usr/local/lib/python3.10/dist-packages (from nbformat->qualtran==0.2.0->pyLIQTR) (2.20.0)\n",
            "Requirement already satisfied: jsonschema>=2.6 in /usr/local/lib/python3.10/dist-packages (from nbformat->qualtran==0.2.0->pyLIQTR) (4.23.0)\n",
            "Requirement already satisfied: autoray>=0.6.12 in /usr/local/lib/python3.10/dist-packages (from quimb->qualtran==0.2.0->pyLIQTR) (0.6.12)\n",
            "Requirement already satisfied: cotengra>=0.6.1 in /usr/local/lib/python3.10/dist-packages (from quimb->qualtran==0.2.0->pyLIQTR) (0.6.2)\n",
            "Requirement already satisfied: cytoolz>=0.8.0 in /usr/local/lib/python3.10/dist-packages (from quimb->qualtran==0.2.0->pyLIQTR) (0.12.3)\n",
            "Requirement already satisfied: numba>=0.39 in /usr/local/lib/python3.10/dist-packages (from quimb->qualtran==0.2.0->pyLIQTR) (0.60.0)\n",
            "Requirement already satisfied: psutil>=4.3.1 in /usr/local/lib/python3.10/dist-packages (from quimb->qualtran==0.2.0->pyLIQTR) (5.9.5)\n",
            "Requirement already satisfied: mpmath<1.4,>=1.1.0 in /usr/local/lib/python3.10/dist-packages (from sympy->cirq-core==1.3.0.dev20231018023458->pyLIQTR) (1.3.0)\n",
            "Requirement already satisfied: toolz>=0.8.0 in /usr/local/lib/python3.10/dist-packages (from cytoolz>=0.8.0->quimb->qualtran==0.2.0->pyLIQTR) (0.12.1)\n",
            "Requirement already satisfied: parso<0.9.0,>=0.8.3 in /usr/local/lib/python3.10/dist-packages (from jedi>=0.16->ipython->qualtran==0.2.0->pyLIQTR) (0.8.4)\n",
            "Requirement already satisfied: jsonschema-specifications>=2023.03.6 in /usr/local/lib/python3.10/dist-packages (from jsonschema>=2.6->nbformat->qualtran==0.2.0->pyLIQTR) (2023.12.1)\n",
            "Requirement already satisfied: referencing>=0.28.4 in /usr/local/lib/python3.10/dist-packages (from jsonschema>=2.6->nbformat->qualtran==0.2.0->pyLIQTR) (0.35.1)\n",
            "Requirement already satisfied: rpds-py>=0.7.1 in /usr/local/lib/python3.10/dist-packages (from jsonschema>=2.6->nbformat->qualtran==0.2.0->pyLIQTR) (0.20.0)\n",
            "Requirement already satisfied: platformdirs>=2.5 in /usr/local/lib/python3.10/dist-packages (from jupyter-core>=4.6.0->jupyter-client->ipykernel->pyLIQTR) (4.2.2)\n",
            "Requirement already satisfied: llvmlite<0.44,>=0.43.0dev0 in /usr/local/lib/python3.10/dist-packages (from numba>=0.39->quimb->qualtran==0.2.0->pyLIQTR) (0.43.0)\n",
            "Requirement already satisfied: ptyprocess>=0.5 in /usr/local/lib/python3.10/dist-packages (from pexpect>4.3->ipython->qualtran==0.2.0->pyLIQTR) (0.7.0)\n",
            "Requirement already satisfied: wcwidth in /usr/local/lib/python3.10/dist-packages (from prompt-toolkit!=3.0.0,!=3.0.1,<3.1.0,>=2.0.0->ipython->qualtran==0.2.0->pyLIQTR) (0.2.13)\n",
            "Requirement already satisfied: notebook>=4.4.1 in /usr/local/lib/python3.10/dist-packages (from widgetsnbextension~=3.6.0->ipywidgets->qualtran==0.2.0->pyLIQTR) (6.5.5)\n",
            "Requirement already satisfied: soupsieve>1.2 in /usr/local/lib/python3.10/dist-packages (from beautifulsoup4->nbconvert->qualtran==0.2.0->pyLIQTR) (2.5)\n",
            "Requirement already satisfied: webencodings in /usr/local/lib/python3.10/dist-packages (from bleach->nbconvert->qualtran==0.2.0->pyLIQTR) (0.5.1)\n",
            "Requirement already satisfied: argon2-cffi in /usr/local/lib/python3.10/dist-packages (from notebook>=4.4.1->widgetsnbextension~=3.6.0->ipywidgets->qualtran==0.2.0->pyLIQTR) (23.1.0)\n",
            "Requirement already satisfied: nest-asyncio>=1.5 in /usr/local/lib/python3.10/dist-packages (from notebook>=4.4.1->widgetsnbextension~=3.6.0->ipywidgets->qualtran==0.2.0->pyLIQTR) (1.6.0)\n",
            "Requirement already satisfied: Send2Trash>=1.8.0 in /usr/local/lib/python3.10/dist-packages (from notebook>=4.4.1->widgetsnbextension~=3.6.0->ipywidgets->qualtran==0.2.0->pyLIQTR) (1.8.3)\n",
            "Requirement already satisfied: terminado>=0.8.3 in /usr/local/lib/python3.10/dist-packages (from notebook>=4.4.1->widgetsnbextension~=3.6.0->ipywidgets->qualtran==0.2.0->pyLIQTR) (0.18.1)\n",
            "Requirement already satisfied: prometheus-client in /usr/local/lib/python3.10/dist-packages (from notebook>=4.4.1->widgetsnbextension~=3.6.0->ipywidgets->qualtran==0.2.0->pyLIQTR) (0.20.0)\n",
            "Requirement already satisfied: nbclassic>=0.4.7 in /usr/local/lib/python3.10/dist-packages (from notebook>=4.4.1->widgetsnbextension~=3.6.0->ipywidgets->qualtran==0.2.0->pyLIQTR) (1.1.0)\n",
            "Requirement already satisfied: notebook-shim>=0.2.3 in /usr/local/lib/python3.10/dist-packages (from nbclassic>=0.4.7->notebook>=4.4.1->widgetsnbextension~=3.6.0->ipywidgets->qualtran==0.2.0->pyLIQTR) (0.2.4)\n",
            "Requirement already satisfied: argon2-cffi-bindings in /usr/local/lib/python3.10/dist-packages (from argon2-cffi->notebook>=4.4.1->widgetsnbextension~=3.6.0->ipywidgets->qualtran==0.2.0->pyLIQTR) (21.2.0)\n",
            "Requirement already satisfied: jupyter-server<3,>=1.8 in /usr/local/lib/python3.10/dist-packages (from notebook-shim>=0.2.3->nbclassic>=0.4.7->notebook>=4.4.1->widgetsnbextension~=3.6.0->ipywidgets->qualtran==0.2.0->pyLIQTR) (1.24.0)\n",
            "Requirement already satisfied: cffi>=1.0.1 in /usr/local/lib/python3.10/dist-packages (from argon2-cffi-bindings->argon2-cffi->notebook>=4.4.1->widgetsnbextension~=3.6.0->ipywidgets->qualtran==0.2.0->pyLIQTR) (1.17.0)\n",
            "Requirement already satisfied: pycparser in /usr/local/lib/python3.10/dist-packages (from cffi>=1.0.1->argon2-cffi-bindings->argon2-cffi->notebook>=4.4.1->widgetsnbextension~=3.6.0->ipywidgets->qualtran==0.2.0->pyLIQTR) (2.22)\n",
            "Requirement already satisfied: anyio<4,>=3.1.0 in /usr/local/lib/python3.10/dist-packages (from jupyter-server<3,>=1.8->notebook-shim>=0.2.3->nbclassic>=0.4.7->notebook>=4.4.1->widgetsnbextension~=3.6.0->ipywidgets->qualtran==0.2.0->pyLIQTR) (3.7.1)\n",
            "Requirement already satisfied: websocket-client in /usr/local/lib/python3.10/dist-packages (from jupyter-server<3,>=1.8->notebook-shim>=0.2.3->nbclassic>=0.4.7->notebook>=4.4.1->widgetsnbextension~=3.6.0->ipywidgets->qualtran==0.2.0->pyLIQTR) (1.8.0)\n",
            "Requirement already satisfied: sniffio>=1.1 in /usr/local/lib/python3.10/dist-packages (from anyio<4,>=3.1.0->jupyter-server<3,>=1.8->notebook-shim>=0.2.3->nbclassic>=0.4.7->notebook>=4.4.1->widgetsnbextension~=3.6.0->ipywidgets->qualtran==0.2.0->pyLIQTR) (1.3.1)\n",
            "Requirement already satisfied: exceptiongroup in /usr/local/lib/python3.10/dist-packages (from anyio<4,>=3.1.0->jupyter-server<3,>=1.8->notebook-shim>=0.2.3->nbclassic>=0.4.7->notebook>=4.4.1->widgetsnbextension~=3.6.0->ipywidgets->qualtran==0.2.0->pyLIQTR) (1.2.2)\n",
            "Using cached cirq_core-1.3.0.dev20231018023458-py3-none-any.whl (1.8 MB)\n",
            "Installing collected packages: cirq-core\n",
            "  Attempting uninstall: cirq-core\n",
            "    Found existing installation: cirq-core 1.4.1\n",
            "    Uninstalling cirq-core-1.4.1:\n",
            "      Successfully uninstalled cirq-core-1.4.1\n",
            "\u001b[31mERROR: pip's dependency resolver does not currently take into account all the packages that are installed. This behaviour is the source of the following dependency conflicts.\n",
            "cirq 1.4.1 requires cirq-core==1.4.1, but you have cirq-core 1.3.0.dev20231018023458 which is incompatible.\n",
            "cirq-aqt 1.4.1 requires cirq-core==1.4.1, but you have cirq-core 1.3.0.dev20231018023458 which is incompatible.\n",
            "cirq-google 1.4.1 requires cirq-core==1.4.1, but you have cirq-core 1.3.0.dev20231018023458 which is incompatible.\n",
            "cirq-ionq 1.4.1 requires cirq-core==1.4.1, but you have cirq-core 1.3.0.dev20231018023458 which is incompatible.\n",
            "cirq-pasqal 1.4.1 requires cirq-core==1.4.1, but you have cirq-core 1.3.0.dev20231018023458 which is incompatible.\n",
            "cirq-rigetti 1.4.1 requires cirq-core==1.4.1, but you have cirq-core 1.3.0.dev20231018023458 which is incompatible.\n",
            "cirq-web 1.4.1 requires cirq-core==1.4.1, but you have cirq-core 1.3.0.dev20231018023458 which is incompatible.\u001b[0m\u001b[31m\n",
            "\u001b[0mSuccessfully installed cirq-core-1.3.0.dev20231018023458\n"
          ]
        },
        {
          "output_type": "display_data",
          "data": {
            "application/vnd.colab-display-data+json": {
              "pip_warning": {
                "packages": [
                  "cirq"
                ]
              },
              "id": "82f36246b35f4d5db37511487be2972d"
            }
          },
          "metadata": {}
        }
      ]
    },
    {
      "cell_type": "code",
      "source": [
        "from pyLIQTR.circuits.operators                     import *\n",
        "from pyLIQTR.BlockEncodings.CarlemanLinearization   import Carleman_Linearization\n",
        "from pyLIQTR.ProblemInstances.NonlinearODE          import FOperators\n",
        "from pyLIQTR.utils.circuit_decomposition            import circuit_decompose_multi\n",
        "from pyLIQTR.utils.global_ancilla_manager           import gam\n",
        "from pyLIQTR.utils.resource_analysis                import estimate_resources\n",
        "from pyLIQTR.utils.printing                         import openqasm\n",
        "\n",
        "from qualtran._infra.gate_with_registers import get_named_qubits\n",
        "from qualtran.cirq_interop.jupyter_tools import svg_circuit\n",
        "\n",
        "import matplotlib.pyplot as plt\n",
        "from qualtran import *\n",
        "import numpy as np\n",
        "import cirq\n",
        "import math"
      ],
      "metadata": {
        "id": "khJeYTnDM3Ns",
        "colab": {
          "base_uri": "https://localhost:8080/"
        },
        "outputId": "f304f674-2a96-4368-c425-fb14b69bf44d"
      },
      "execution_count": null,
      "outputs": [
        {
          "output_type": "stream",
          "name": "stderr",
          "text": [
            "/usr/local/lib/python3.10/dist-packages/cotengra/hyperoptimizers/hyper.py:33: UserWarning: Couldn't import `kahypar` - skipping from default hyper optimizer and using basic `labels` method instead.\n",
            "  warnings.warn(\n"
          ]
        }
      ]
    },
    {
      "cell_type": "code",
      "source": [
        "estimate_resources(circuit)"
      ],
      "metadata": {
        "id": "KVNHJV-VM7_0",
        "colab": {
          "base_uri": "https://localhost:8080/"
        },
        "outputId": "f8b95d6e-281f-4ff5-c1a5-ccb9bd2954b6"
      },
      "execution_count": null,
      "outputs": [
        {
          "output_type": "execute_result",
          "data": {
            "text/plain": [
              "{'LogicalQubits': 8, 'T': 21, 'Clifford': 59}"
            ]
          },
          "metadata": {},
          "execution_count": 7
        }
      ]
    },
    {
      "cell_type": "markdown",
      "source": [
        "## Example 02\n",
        "\n"
      ],
      "metadata": {
        "id": "EcWvIkT9NF1P"
      }
    },
    {
      "cell_type": "code",
      "source": [
        "import cirq\n",
        "from cirq import H, Z, X, inverse, CX, CCX\n",
        "s = cirq.Simulator()\n",
        "\n",
        "# 0-3: vertices\n",
        "# 4-7: edge checking\n",
        "# 8-10: the number\n",
        "# 11: auxillary\n",
        "\n",
        "def edge_check(a, b, c):\n",
        "    yield CX(qq[a], qq[c])\n",
        "    yield CX(qq[b], qq[c])\n",
        "\n",
        "def oracle_computation():\n",
        "    # check all edges\n",
        "    yield edge_check(0, 2, 4)\n",
        "    yield edge_check(0, 3, 5)\n",
        "    yield edge_check(1, 2, 6)\n",
        "    yield edge_check(1, 3, 7)\n",
        "\n",
        "    # add outputs of edge checking\n",
        "    yield CX(qq[4],qq[8])\n",
        "\n",
        "    yield CCX(qq[5], qq[8], qq[9])\n",
        "    yield CX(qq[5],qq[8])\n",
        "\n",
        "    yield CCX(qq[6], qq[8], qq[9])\n",
        "    yield CX(qq[6],qq[8])\n",
        "\n",
        "    yield X(qq[10]).controlled_by(qq[7], qq[8],qq[9])\n",
        "    yield CCX(qq[7], qq[8], qq[9])\n",
        "    yield CX(qq[7],qq[8])\n",
        "\n",
        "\n",
        "    # check if number is equal to four\n",
        "    yield X(qq[8])\n",
        "    yield X(qq[9])\n",
        "    yield X(qq[11]).controlled_by(*(qq[8:11]))\n",
        "    # note we don't have to undo the X gates!\n",
        "\n",
        "def oracle():\n",
        "    yield oracle_computation()\n",
        "    yield Z(qq[11])\n",
        "    yield inverse(oracle_computation())\n",
        "\n",
        "def grover_diffusion():\n",
        "    yield H.on_each(*(qq[:4]))\n",
        "    yield X.on_each(*(qq[:4]))\n",
        "    yield Z(qq[3]).controlled_by(*(qq[:3]))\n",
        "    yield X.on_each(*(qq[:4]))\n",
        "    yield H.on_each(*(qq[:4]))\n",
        "\n",
        "# the Grover algorithm\n",
        "qq = cirq.LineQubit.range(12)\n",
        "circuit = cirq.Circuit()\n",
        "circuit.append(H.on_each(*(qq[0:4])))\n",
        "\n",
        "for i in range(2):\n",
        "    circuit.append(oracle())\n",
        "    circuit.append(grover_diffusion())\n",
        "circuit.append(cirq.measure(*qq[0:4], key='result'))\n",
        "\n",
        "# determine the statistics of the measurements\n",
        "trials_number = 10_000\n",
        "samples = s.run(circuit, repetitions=trials_number)\n",
        "result = samples.measurements[\"result\"]\n",
        "\n",
        "print(\"Random guess probability:\", 1/2**4)\n",
        "# create an histogram of the result\n",
        "def bitstring(bits):\n",
        "    return \"\".join(str(int(b)) for b in bits)\n",
        "counts = samples.histogram(key=\"result\",fold_func=bitstring)\n",
        "for state, c in counts.items():\n",
        "    print(\"Probability of observing\", state, \": \" ,c/trials_number)"
      ],
      "metadata": {
        "id": "qkjoxYeFNEp2",
        "colab": {
          "base_uri": "https://localhost:8080/"
        },
        "outputId": "f3f24463-d3b1-454c-fb91-1c8df8448722"
      },
      "execution_count": null,
      "outputs": [
        {
          "output_type": "stream",
          "name": "stdout",
          "text": [
            "Random guess probability: 0.0625\n",
            "Probability of observing 1100 :  0.4724\n",
            "Probability of observing 0011 :  0.4734\n",
            "Probability of observing 0000 :  0.0033\n",
            "Probability of observing 0110 :  0.0036\n",
            "Probability of observing 0010 :  0.0044\n",
            "Probability of observing 1101 :  0.005\n",
            "Probability of observing 0111 :  0.004\n",
            "Probability of observing 1111 :  0.0046\n",
            "Probability of observing 0100 :  0.0056\n",
            "Probability of observing 1010 :  0.0033\n",
            "Probability of observing 0001 :  0.003\n",
            "Probability of observing 1110 :  0.0036\n",
            "Probability of observing 1000 :  0.0032\n",
            "Probability of observing 1001 :  0.0034\n",
            "Probability of observing 1011 :  0.0038\n",
            "Probability of observing 0101 :  0.0034\n"
          ]
        }
      ]
    },
    {
      "cell_type": "code",
      "source": [
        "estimate_resources(circuit)"
      ],
      "metadata": {
        "colab": {
          "base_uri": "https://localhost:8080/"
        },
        "id": "k0EZvys5tWLu",
        "outputId": "2213a306-4b42-4341-e61f-08598c141e5f"
      },
      "execution_count": null,
      "outputs": [
        {
          "output_type": "execute_result",
          "data": {
            "text/plain": [
              "{'LogicalQubits': 12, 'T': 14252, 'Clifford': 28596}"
            ]
          },
          "metadata": {},
          "execution_count": 9
        }
      ]
    },
    {
      "cell_type": "markdown",
      "source": [
        "## Example 03"
      ],
      "metadata": {
        "id": "QQJ-rDKwN0ve"
      }
    },
    {
      "cell_type": "code",
      "source": [
        "import cirq\n",
        "from cirq import H, Z, X, inverse, CX, CCX\n",
        "s = cirq.Simulator()\n",
        "\n",
        "# 0-4: vertices\n",
        "# 5-11: edge checking\n",
        "# 12-14: the number\n",
        "# 15: auxillary\n",
        "\n",
        "def edge_check(a, b, c):\n",
        "    yield CX(qq[a], qq[c])\n",
        "    yield CX(qq[b], qq[c])\n",
        "\n",
        "def oracle_computation():\n",
        "    # check all edges\n",
        "    yield edge_check(0, 1, 5)\n",
        "    yield edge_check(0, 3, 6)\n",
        "    yield edge_check(0, 4, 7)\n",
        "    yield edge_check(1, 3, 8)\n",
        "    yield edge_check(1, 4, 9)\n",
        "    yield edge_check(2, 3, 10)\n",
        "    yield edge_check(2, 4, 11)\n",
        "\n",
        "    # add qubit 5\n",
        "    yield CX(qq[5], qq[12])\n",
        "\n",
        "    # add qubits 6-7\n",
        "    for j in range(6,8):\n",
        "        yield CCX(qq[j], qq[12], qq[13])\n",
        "        yield CX(qq[j], qq[12])\n",
        "\n",
        "    # add qubits 8-11\n",
        "    for j in range(8,12):\n",
        "        yield X(qq[14]).controlled_by(qq[j], qq[12], qq[13])\n",
        "        yield CCX(qq[j], qq[12], qq[13])\n",
        "        yield CX(qq[j], qq[12])\n",
        "\n",
        "    # set the last bit\n",
        "    # we do not have to check 12th qubit\n",
        "    yield CCX(qq[13], qq[14], qq[15])\n",
        "\n",
        "def oracle():\n",
        "    yield oracle_computation()\n",
        "    yield Z(qq[15])\n",
        "    yield inverse(oracle_computation())\n",
        "\n",
        "def grover_diffusion():\n",
        "    yield H.on_each(*(qq[:5]))\n",
        "    yield X.on_each(*(qq[:5]))\n",
        "    yield Z(qq[4]).controlled_by(*(qq[:4]))\n",
        "    yield X.on_each(*(qq[:5]))\n",
        "    yield H.on_each(*(qq[:5]))\n",
        "\n",
        "\n",
        "# the Grover algorithm\n",
        "qq = cirq.LineQubit.range(16)\n",
        "circuit = cirq.Circuit()\n",
        "circuit.append(H.on_each(*(qq[0:5])))\n",
        "\n",
        "for i in range(2):\n",
        "    circuit.append(oracle())\n",
        "    circuit.append(grover_diffusion())\n",
        "\n",
        "circuit.append(cirq.measure(*qq[0:5], key='result'))\n",
        "\n",
        "# determine the statistics of the measurements\n",
        "trials_number = 10_000\n",
        "samples = s.run(circuit, repetitions=trials_number)\n",
        "result = samples.measurements[\"result\"]\n",
        "\n",
        "print(\"Random guess probability:\", 1/2**5)\n",
        "# create an histogram of the result\n",
        "def bitstring(bits):\n",
        "    return \"\".join(str(int(b)) for b in bits)\n",
        "counts = samples.histogram(key=\"result\",fold_func=bitstring)\n",
        "for state, c in counts.items():\n",
        "    print(\"Probability of observing\", state, \": \" ,c/trials_number)"
      ],
      "metadata": {
        "colab": {
          "base_uri": "https://localhost:8080/"
        },
        "id": "b9Nugqf4N3WO",
        "outputId": "b4385e94-8610-433f-91f3-afdee3c3ee3a"
      },
      "execution_count": null,
      "outputs": [
        {
          "output_type": "stream",
          "name": "stdout",
          "text": [
            "Random guess probability: 0.03125\n",
            "Probability of observing 00011 :  0.4502\n",
            "Probability of observing 10000 :  0.0041\n",
            "Probability of observing 10101 :  0.0028\n",
            "Probability of observing 11100 :  0.4625\n",
            "Probability of observing 10001 :  0.0024\n",
            "Probability of observing 10100 :  0.0023\n",
            "Probability of observing 01110 :  0.0025\n",
            "Probability of observing 01010 :  0.0026\n",
            "Probability of observing 11101 :  0.0038\n",
            "Probability of observing 11010 :  0.0022\n",
            "Probability of observing 10011 :  0.0025\n",
            "Probability of observing 00001 :  0.0021\n",
            "Probability of observing 01111 :  0.0035\n",
            "Probability of observing 00101 :  0.0029\n",
            "Probability of observing 11011 :  0.0036\n",
            "Probability of observing 00010 :  0.0028\n",
            "Probability of observing 11111 :  0.0035\n",
            "Probability of observing 01011 :  0.003\n",
            "Probability of observing 00000 :  0.0032\n",
            "Probability of observing 11110 :  0.0031\n",
            "Probability of observing 00110 :  0.0032\n",
            "Probability of observing 11001 :  0.0025\n",
            "Probability of observing 10110 :  0.0036\n",
            "Probability of observing 10111 :  0.0029\n",
            "Probability of observing 01001 :  0.0028\n",
            "Probability of observing 10010 :  0.0023\n",
            "Probability of observing 01101 :  0.0036\n",
            "Probability of observing 01000 :  0.003\n",
            "Probability of observing 00100 :  0.0031\n",
            "Probability of observing 11000 :  0.0021\n",
            "Probability of observing 01100 :  0.0026\n",
            "Probability of observing 00111 :  0.0027\n"
          ]
        }
      ]
    },
    {
      "cell_type": "code",
      "source": [
        "estimate_resources(circuit)"
      ],
      "metadata": {
        "colab": {
          "base_uri": "https://localhost:8080/"
        },
        "id": "2RVrepYwtiVV",
        "outputId": "14d04208-a6cc-44f8-d8db-c3e0cd0529b2"
      },
      "execution_count": null,
      "outputs": [
        {
          "output_type": "execute_result",
          "data": {
            "text/plain": [
              "{'LogicalQubits': 16, 'T': 30204, 'Clifford': 60513}"
            ]
          },
          "metadata": {},
          "execution_count": 11
        }
      ]
    },
    {
      "cell_type": "markdown",
      "source": [
        "# Qiskit"
      ],
      "metadata": {
        "id": "Nb21qSdTDBNn"
      }
    },
    {
      "cell_type": "code",
      "source": [
        "# Installing qiskit and related libraries\n",
        "\n",
        "!pip install qiskit\n",
        "!pip install qiskit-aer\n",
        "!pip install qiskit[visualization]\n",
        "!pip install qutip"
      ],
      "metadata": {
        "collapsed": true,
        "colab": {
          "base_uri": "https://localhost:8080/"
        },
        "id": "hRUtZNWbCV96",
        "outputId": "006980ea-eeca-45f9-99ff-4f6f361e457d"
      },
      "execution_count": null,
      "outputs": [
        {
          "output_type": "stream",
          "name": "stdout",
          "text": [
            "Collecting qiskit\n",
            "  Downloading qiskit-1.2.0-cp38-abi3-manylinux_2_17_x86_64.manylinux2014_x86_64.whl.metadata (12 kB)\n",
            "Collecting rustworkx>=0.15.0 (from qiskit)\n",
            "  Downloading rustworkx-0.15.1-cp38-abi3-manylinux_2_17_x86_64.manylinux2014_x86_64.whl.metadata (9.9 kB)\n",
            "Requirement already satisfied: numpy<3,>=1.17 in /usr/local/lib/python3.10/dist-packages (from qiskit) (1.26.4)\n",
            "Requirement already satisfied: scipy>=1.5 in /usr/local/lib/python3.10/dist-packages (from qiskit) (1.13.1)\n",
            "Requirement already satisfied: sympy>=1.3 in /usr/local/lib/python3.10/dist-packages (from qiskit) (1.13.1)\n",
            "Collecting dill>=0.3 (from qiskit)\n",
            "  Downloading dill-0.3.8-py3-none-any.whl.metadata (10 kB)\n",
            "Requirement already satisfied: python-dateutil>=2.8.0 in /usr/local/lib/python3.10/dist-packages (from qiskit) (2.8.2)\n",
            "Collecting stevedore>=3.0.0 (from qiskit)\n",
            "  Downloading stevedore-5.2.0-py3-none-any.whl.metadata (2.3 kB)\n",
            "Requirement already satisfied: typing-extensions in /usr/local/lib/python3.10/dist-packages (from qiskit) (4.12.2)\n",
            "Collecting symengine>=0.11 (from qiskit)\n",
            "  Downloading symengine-0.11.0-cp310-cp310-manylinux_2_12_x86_64.manylinux2010_x86_64.whl.metadata (1.2 kB)\n",
            "Requirement already satisfied: six>=1.5 in /usr/local/lib/python3.10/dist-packages (from python-dateutil>=2.8.0->qiskit) (1.16.0)\n",
            "Collecting pbr!=2.1.0,>=2.0.0 (from stevedore>=3.0.0->qiskit)\n",
            "  Downloading pbr-6.0.0-py2.py3-none-any.whl.metadata (1.3 kB)\n",
            "Requirement already satisfied: mpmath<1.4,>=1.1.0 in /usr/local/lib/python3.10/dist-packages (from sympy>=1.3->qiskit) (1.3.0)\n",
            "Downloading qiskit-1.2.0-cp38-abi3-manylinux_2_17_x86_64.manylinux2014_x86_64.whl (4.8 MB)\n",
            "\u001b[2K   \u001b[90m━━━━━━━━━━━━━━━━━━━━━━━━━━━━━━━━━━━━━━━━\u001b[0m \u001b[32m4.8/4.8 MB\u001b[0m \u001b[31m16.7 MB/s\u001b[0m eta \u001b[36m0:00:00\u001b[0m\n",
            "\u001b[?25hDownloading dill-0.3.8-py3-none-any.whl (116 kB)\n",
            "\u001b[2K   \u001b[90m━━━━━━━━━━━━━━━━━━━━━━━━━━━━━━━━━━━━━━━━\u001b[0m \u001b[32m116.3/116.3 kB\u001b[0m \u001b[31m7.4 MB/s\u001b[0m eta \u001b[36m0:00:00\u001b[0m\n",
            "\u001b[?25hDownloading rustworkx-0.15.1-cp38-abi3-manylinux_2_17_x86_64.manylinux2014_x86_64.whl (2.0 MB)\n",
            "\u001b[2K   \u001b[90m━━━━━━━━━━━━━━━━━━━━━━━━━━━━━━━━━━━━━━━━\u001b[0m \u001b[32m2.0/2.0 MB\u001b[0m \u001b[31m42.5 MB/s\u001b[0m eta \u001b[36m0:00:00\u001b[0m\n",
            "\u001b[?25hDownloading stevedore-5.2.0-py3-none-any.whl (49 kB)\n",
            "\u001b[2K   \u001b[90m━━━━━━━━━━━━━━━━━━━━━━━━━━━━━━━━━━━━━━━━\u001b[0m \u001b[32m49.7/49.7 kB\u001b[0m \u001b[31m3.3 MB/s\u001b[0m eta \u001b[36m0:00:00\u001b[0m\n",
            "\u001b[?25hDownloading symengine-0.11.0-cp310-cp310-manylinux_2_12_x86_64.manylinux2010_x86_64.whl (39.4 MB)\n",
            "\u001b[2K   \u001b[90m━━━━━━━━━━━━━━━━━━━━━━━━━━━━━━━━━━━━━━━━\u001b[0m \u001b[32m39.4/39.4 MB\u001b[0m \u001b[31m12.7 MB/s\u001b[0m eta \u001b[36m0:00:00\u001b[0m\n",
            "\u001b[?25hDownloading pbr-6.0.0-py2.py3-none-any.whl (107 kB)\n",
            "\u001b[2K   \u001b[90m━━━━━━━━━━━━━━━━━━━━━━━━━━━━━━━━━━━━━━━━\u001b[0m \u001b[32m107.5/107.5 kB\u001b[0m \u001b[31m7.5 MB/s\u001b[0m eta \u001b[36m0:00:00\u001b[0m\n",
            "\u001b[?25hInstalling collected packages: symengine, rustworkx, pbr, dill, stevedore, qiskit\n",
            "Successfully installed dill-0.3.8 pbr-6.0.0 qiskit-1.2.0 rustworkx-0.15.1 stevedore-5.2.0 symengine-0.11.0\n",
            "Collecting qiskit-aer\n",
            "  Downloading qiskit_aer-0.14.2-cp310-cp310-manylinux_2_17_x86_64.manylinux2014_x86_64.whl.metadata (8.1 kB)\n",
            "Requirement already satisfied: qiskit>=0.45.2 in /usr/local/lib/python3.10/dist-packages (from qiskit-aer) (1.2.0)\n",
            "Requirement already satisfied: numpy>=1.16.3 in /usr/local/lib/python3.10/dist-packages (from qiskit-aer) (1.26.4)\n",
            "Requirement already satisfied: scipy>=1.0 in /usr/local/lib/python3.10/dist-packages (from qiskit-aer) (1.13.1)\n",
            "Requirement already satisfied: psutil>=5 in /usr/local/lib/python3.10/dist-packages (from qiskit-aer) (5.9.5)\n",
            "Requirement already satisfied: rustworkx>=0.15.0 in /usr/local/lib/python3.10/dist-packages (from qiskit>=0.45.2->qiskit-aer) (0.15.1)\n",
            "Requirement already satisfied: sympy>=1.3 in /usr/local/lib/python3.10/dist-packages (from qiskit>=0.45.2->qiskit-aer) (1.13.1)\n",
            "Requirement already satisfied: dill>=0.3 in /usr/local/lib/python3.10/dist-packages (from qiskit>=0.45.2->qiskit-aer) (0.3.8)\n",
            "Requirement already satisfied: python-dateutil>=2.8.0 in /usr/local/lib/python3.10/dist-packages (from qiskit>=0.45.2->qiskit-aer) (2.8.2)\n",
            "Requirement already satisfied: stevedore>=3.0.0 in /usr/local/lib/python3.10/dist-packages (from qiskit>=0.45.2->qiskit-aer) (5.2.0)\n",
            "Requirement already satisfied: typing-extensions in /usr/local/lib/python3.10/dist-packages (from qiskit>=0.45.2->qiskit-aer) (4.12.2)\n",
            "Requirement already satisfied: symengine>=0.11 in /usr/local/lib/python3.10/dist-packages (from qiskit>=0.45.2->qiskit-aer) (0.11.0)\n",
            "Requirement already satisfied: six>=1.5 in /usr/local/lib/python3.10/dist-packages (from python-dateutil>=2.8.0->qiskit>=0.45.2->qiskit-aer) (1.16.0)\n",
            "Requirement already satisfied: pbr!=2.1.0,>=2.0.0 in /usr/local/lib/python3.10/dist-packages (from stevedore>=3.0.0->qiskit>=0.45.2->qiskit-aer) (6.0.0)\n",
            "Requirement already satisfied: mpmath<1.4,>=1.1.0 in /usr/local/lib/python3.10/dist-packages (from sympy>=1.3->qiskit>=0.45.2->qiskit-aer) (1.3.0)\n",
            "Downloading qiskit_aer-0.14.2-cp310-cp310-manylinux_2_17_x86_64.manylinux2014_x86_64.whl (12.4 MB)\n",
            "\u001b[2K   \u001b[90m━━━━━━━━━━━━━━━━━━━━━━━━━━━━━━━━━━━━━━━━\u001b[0m \u001b[32m12.4/12.4 MB\u001b[0m \u001b[31m22.0 MB/s\u001b[0m eta \u001b[36m0:00:00\u001b[0m\n",
            "\u001b[?25hInstalling collected packages: qiskit-aer\n",
            "Successfully installed qiskit-aer-0.14.2\n",
            "Requirement already satisfied: qiskit[visualization] in /usr/local/lib/python3.10/dist-packages (1.2.0)\n",
            "Requirement already satisfied: rustworkx>=0.15.0 in /usr/local/lib/python3.10/dist-packages (from qiskit[visualization]) (0.15.1)\n",
            "Requirement already satisfied: numpy<3,>=1.17 in /usr/local/lib/python3.10/dist-packages (from qiskit[visualization]) (1.26.4)\n",
            "Requirement already satisfied: scipy>=1.5 in /usr/local/lib/python3.10/dist-packages (from qiskit[visualization]) (1.13.1)\n",
            "Requirement already satisfied: sympy>=1.3 in /usr/local/lib/python3.10/dist-packages (from qiskit[visualization]) (1.13.1)\n",
            "Requirement already satisfied: dill>=0.3 in /usr/local/lib/python3.10/dist-packages (from qiskit[visualization]) (0.3.8)\n",
            "Requirement already satisfied: python-dateutil>=2.8.0 in /usr/local/lib/python3.10/dist-packages (from qiskit[visualization]) (2.8.2)\n",
            "Requirement already satisfied: stevedore>=3.0.0 in /usr/local/lib/python3.10/dist-packages (from qiskit[visualization]) (5.2.0)\n",
            "Requirement already satisfied: typing-extensions in /usr/local/lib/python3.10/dist-packages (from qiskit[visualization]) (4.12.2)\n",
            "Requirement already satisfied: symengine>=0.11 in /usr/local/lib/python3.10/dist-packages (from qiskit[visualization]) (0.11.0)\n",
            "Requirement already satisfied: matplotlib>=3.3 in /usr/local/lib/python3.10/dist-packages (from qiskit[visualization]) (3.7.1)\n",
            "Requirement already satisfied: pydot in /usr/local/lib/python3.10/dist-packages (from qiskit[visualization]) (1.4.2)\n",
            "Requirement already satisfied: Pillow>=4.2.1 in /usr/local/lib/python3.10/dist-packages (from qiskit[visualization]) (9.4.0)\n",
            "Collecting pylatexenc>=1.4 (from qiskit[visualization])\n",
            "  Downloading pylatexenc-2.10.tar.gz (162 kB)\n",
            "\u001b[2K     \u001b[90m━━━━━━━━━━━━━━━━━━━━━━━━━━━━━━━━━━━━━━━━\u001b[0m \u001b[32m162.6/162.6 kB\u001b[0m \u001b[31m1.2 MB/s\u001b[0m eta \u001b[36m0:00:00\u001b[0m\n",
            "\u001b[?25h  Preparing metadata (setup.py) ... \u001b[?25l\u001b[?25hdone\n",
            "Requirement already satisfied: seaborn>=0.9.0 in /usr/local/lib/python3.10/dist-packages (from qiskit[visualization]) (0.13.1)\n",
            "Requirement already satisfied: contourpy>=1.0.1 in /usr/local/lib/python3.10/dist-packages (from matplotlib>=3.3->qiskit[visualization]) (1.2.1)\n",
            "Requirement already satisfied: cycler>=0.10 in /usr/local/lib/python3.10/dist-packages (from matplotlib>=3.3->qiskit[visualization]) (0.12.1)\n",
            "Requirement already satisfied: fonttools>=4.22.0 in /usr/local/lib/python3.10/dist-packages (from matplotlib>=3.3->qiskit[visualization]) (4.53.1)\n",
            "Requirement already satisfied: kiwisolver>=1.0.1 in /usr/local/lib/python3.10/dist-packages (from matplotlib>=3.3->qiskit[visualization]) (1.4.5)\n",
            "Requirement already satisfied: packaging>=20.0 in /usr/local/lib/python3.10/dist-packages (from matplotlib>=3.3->qiskit[visualization]) (24.1)\n",
            "Requirement already satisfied: pyparsing>=2.3.1 in /usr/local/lib/python3.10/dist-packages (from matplotlib>=3.3->qiskit[visualization]) (3.1.2)\n",
            "Requirement already satisfied: six>=1.5 in /usr/local/lib/python3.10/dist-packages (from python-dateutil>=2.8.0->qiskit[visualization]) (1.16.0)\n",
            "Requirement already satisfied: pandas>=1.2 in /usr/local/lib/python3.10/dist-packages (from seaborn>=0.9.0->qiskit[visualization]) (2.1.4)\n",
            "Requirement already satisfied: pbr!=2.1.0,>=2.0.0 in /usr/local/lib/python3.10/dist-packages (from stevedore>=3.0.0->qiskit[visualization]) (6.0.0)\n",
            "Requirement already satisfied: mpmath<1.4,>=1.1.0 in /usr/local/lib/python3.10/dist-packages (from sympy>=1.3->qiskit[visualization]) (1.3.0)\n",
            "Requirement already satisfied: pytz>=2020.1 in /usr/local/lib/python3.10/dist-packages (from pandas>=1.2->seaborn>=0.9.0->qiskit[visualization]) (2024.1)\n",
            "Requirement already satisfied: tzdata>=2022.1 in /usr/local/lib/python3.10/dist-packages (from pandas>=1.2->seaborn>=0.9.0->qiskit[visualization]) (2024.1)\n",
            "Building wheels for collected packages: pylatexenc\n",
            "  Building wheel for pylatexenc (setup.py) ... \u001b[?25l\u001b[?25hdone\n",
            "  Created wheel for pylatexenc: filename=pylatexenc-2.10-py3-none-any.whl size=136817 sha256=e74bbe66a9124601682537dfb65865d87465de93c7e9c8f12912800145d8bdd6\n",
            "  Stored in directory: /root/.cache/pip/wheels/d3/31/8b/e09b0386afd80cfc556c00408c9aeea5c35c4d484a9c762fd5\n",
            "Successfully built pylatexenc\n",
            "Installing collected packages: pylatexenc\n",
            "Successfully installed pylatexenc-2.10\n",
            "Collecting qutip\n",
            "  Downloading qutip-5.0.3.post1-cp310-cp310-manylinux_2_17_x86_64.manylinux2014_x86_64.whl.metadata (9.2 kB)\n",
            "Requirement already satisfied: numpy>=1.22 in /usr/local/lib/python3.10/dist-packages (from qutip) (1.26.4)\n",
            "Requirement already satisfied: scipy>=1.9 in /usr/local/lib/python3.10/dist-packages (from qutip) (1.13.1)\n",
            "Requirement already satisfied: packaging in /usr/local/lib/python3.10/dist-packages (from qutip) (24.1)\n",
            "Downloading qutip-5.0.3.post1-cp310-cp310-manylinux_2_17_x86_64.manylinux2014_x86_64.whl (28.0 MB)\n",
            "\u001b[2K   \u001b[90m━━━━━━━━━━━━━━━━━━━━━━━━━━━━━━━━━━━━━━━━\u001b[0m \u001b[32m28.0/28.0 MB\u001b[0m \u001b[31m30.2 MB/s\u001b[0m eta \u001b[36m0:00:00\u001b[0m\n",
            "\u001b[?25hInstalling collected packages: qutip\n",
            "Successfully installed qutip-5.0.3.post1\n"
          ]
        }
      ]
    },
    {
      "cell_type": "code",
      "source": [
        "# Import necessary modules for qiskit\n",
        "from qiskit import QuantumCircuit, QuantumRegister, ClassicalRegister, transpile\n",
        "from qiskit_aer import Aer\n",
        "import qiskit.quantum_info as qi\n",
        "from qiskit.visualization import plot_histogram\n",
        "import numpy as np\n",
        "from qiskit.circuit.library import HGate, MCXGate\n",
        "from qiskit.quantum_info import random_unitary\n",
        "from qiskit import QuantumCircuit\n",
        "from qiskit.visualization import plot_bloch_multivector\n",
        "import matplotlib.pyplot as plt\n",
        "from qiskit import QuantumCircuit\n",
        "from qiskit.quantum_info import Statevector\n",
        "from qiskit.visualization import plot_state_qsphere\n",
        "from qiskit.circuit.library import XGate, ZGate, HGate, CXGate, CCXGate ,mcrz , MCU1Gate , MCXGate\n",
        "from qutip import *"
      ],
      "metadata": {
        "id": "cektC3S1Cqxr"
      },
      "execution_count": null,
      "outputs": []
    },
    {
      "cell_type": "markdown",
      "source": [
        "## Example 01"
      ],
      "metadata": {
        "id": "6DKSy5BFDbTg"
      }
    },
    {
      "cell_type": "code",
      "source": [
        "from qiskit import QuantumCircuit\n",
        "from qiskit.circuit.library import HGate, XGate, ZGate, CXGate, CCXGate\n",
        "from qiskit.visualization import plot_histogram\n",
        "\n",
        "def oracle_computation(qc):\n",
        "\n",
        "    qc.cx(0, 3)\n",
        "    qc.cx(1, 3)\n",
        "    qc.cx(1, 4)\n",
        "    qc.cx(2, 4)\n",
        "    qc.cx(3, 5)\n",
        "    qc.ccx(4, 5, 6)\n",
        "    qc.cx(4, 5)\n",
        "    qc.cx(6, 7)\n",
        "\n",
        "def inv_oracle_computation(qc):\n",
        "\n",
        "    qc.cx(6, 7)\n",
        "    qc.cx(4, 5)\n",
        "    qc.ccx(4, 5, 6)\n",
        "    qc.cx(3, 5)\n",
        "    qc.cx(2, 4)\n",
        "    qc.cx(1, 4)\n",
        "    qc.cx(1, 3)\n",
        "    qc.cx(0, 3)\n",
        "\n",
        "\n",
        "\n",
        "def oracle(qc):\n",
        "    oracle_computation(qc)\n",
        "    qc.z(7)\n",
        "    inv_oracle_computation(qc)\n",
        "\n",
        "def grover_diffusion(qc):\n",
        "    qc.h(range(3))\n",
        "    qc.x(range(3))\n",
        "    qc.h(2)\n",
        "    qc.mcx([0, 1], 2)\n",
        "    qc.h(2)\n",
        "    qc.x(range(3))\n",
        "    qc.h(range(3))\n",
        "\n",
        "\n",
        "qc = QuantumCircuit(8,3)  # Create a quantum circuit with 8 qubits\n",
        "qc.h(range(3))          # Apply Hadamard gates to the first 3 qubits\n",
        "\n",
        "# Apply the oracle and Grover diffusion operator\n",
        "oracle(qc)\n",
        "grover_diffusion(qc)\n",
        "\n",
        "# Measure the first 3 qubits\n",
        "qc.measure([0, 1, 2], [0, 1, 2])\n",
        "\n",
        "# Simulate the circuit\n",
        "backend = Aer.get_backend('qasm_simulator')\n",
        "trials_number = 100\n",
        "result = transpile(qc, backend)\n",
        "job = backend.run(result, shots=trials_number)\n",
        "result = job.result()\n",
        "counts = result.get_counts()\n",
        "print(counts)\n"
      ],
      "metadata": {
        "colab": {
          "base_uri": "https://localhost:8080/"
        },
        "id": "eXmwaolgaMyp",
        "outputId": "b99089dd-3f81-4b6c-c64b-850108d28127"
      },
      "execution_count": null,
      "outputs": [
        {
          "output_type": "stream",
          "name": "stdout",
          "text": [
            "{'010': 45, '101': 55}\n"
          ]
        }
      ]
    },
    {
      "cell_type": "markdown",
      "source": [
        "## Example 02"
      ],
      "metadata": {
        "id": "p66nGuKjDg1F"
      }
    },
    {
      "cell_type": "code",
      "source": [
        "from qiskit import QuantumCircuit\n",
        "from qiskit.circuit.library import XGate, ZGate, HGate, CXGate, CCXGate ,mcrz , MCXGate\n",
        "from qiskit.quantum_info import Statevector\n",
        "\n",
        "# 0-3: vertices\n",
        "# 4-7: edge checking\n",
        "# 8-10: the number\n",
        "# 11: auxiliary\n",
        "\n",
        "def edge_check(qc, a, b, c):\n",
        "    qc.cx(a, c)\n",
        "    qc.cx(b, c)\n",
        "\n",
        "\n",
        "def oracle_computation(qc):\n",
        "    # Check all edges\n",
        "    edge_check(qc, 0, 2, 4)\n",
        "    edge_check(qc, 0, 3, 5)\n",
        "    edge_check(qc, 1, 2, 6)\n",
        "    edge_check(qc, 1, 3, 7)\n",
        "\n",
        "    # Add outputs of edge checking\n",
        "    qc.cx(4, 8)\n",
        "\n",
        "    qc.ccx(5, 8, 9)\n",
        "    qc.cx(5, 8)\n",
        "\n",
        "    qc.ccx(6, 8, 9)\n",
        "    qc.cx(6, 8)\n",
        "\n",
        "    qc.mcx([7, 8, 9], 10)  # Multi-controlled X gate\n",
        "    qc.ccx(7, 8, 9)\n",
        "    qc.cx(7, 8)\n",
        "\n",
        "    # Check if number is equal to four\n",
        "    qc.x(8)\n",
        "    qc.x(9)\n",
        "    qc.mcx([8, 9, 10], 11)\n",
        "    # Note we don't have to undo the X gates\n",
        "\n",
        "def inv_edge_check(qc, a, b, c):\n",
        "    qc.cx(b, c)\n",
        "    qc.cx(a, c)\n",
        "\n",
        "\n",
        "def inv_oracle_computation(qc):\n",
        "\n",
        "\n",
        "    qc.mcx([8, 9, 10], 11)\n",
        "    # Note we don't have to undo the X gates\n",
        "    qc.x(9)\n",
        "    # Check if number is equal to four\n",
        "    qc.x(8)\n",
        "    qc.cx(7, 8)\n",
        "    qc.ccx(7, 8, 9)\n",
        "    qc.mcx([7, 8, 9], 10)  # Multi-controlled X gate\n",
        "    qc.cx(6, 8)\n",
        "    qc.ccx(6, 8, 9)\n",
        "    qc.cx(5, 8)\n",
        "    qc.ccx(5, 8, 9)\n",
        "    # Add outputs of edge checking\n",
        "    qc.cx(4, 8)\n",
        "    # Check all edges\n",
        "    inv_edge_check(qc, 1, 3, 7)\n",
        "    inv_edge_check(qc, 1, 2, 6)\n",
        "    inv_edge_check(qc, 0, 3, 5)\n",
        "    inv_edge_check(qc, 0, 2, 4)\n",
        "\n",
        "\n",
        "\n",
        "def oracle(qc):\n",
        "    oracle_computation(qc)\n",
        "    qc.z(11)\n",
        "    inv_oracle_computation(qc)\n",
        "\n",
        "\n",
        "def grover_diffusion(qc):\n",
        "    qc.h([0, 1, 2, 3])\n",
        "    qc.x([0, 1, 2, 3])\n",
        "    qc.h(2)\n",
        "    mcx = MCXGate(num_ctrl_qubits=2)\n",
        "    qc.append(mcx, qargs=[0, 1,2])\n",
        "    qc.h(2)\n",
        "    qc.x([0, 1, 2, 3])\n",
        "    qc.h([0, 1, 2, 3])\n",
        "\n",
        "# Initialize the circuit\n",
        "qc = QuantumCircuit(12, 4)\n",
        "\n",
        "# Apply Hadamard gates to the first 4 qubits\n",
        "qc.h([0, 1, 2, 3])\n",
        "\n",
        "# Grover iterations\n",
        "for i in range(2):\n",
        "    oracle(qc)\n",
        "    grover_diffusion(qc)\n",
        "\n",
        "# Measure the first 4 qubits\n",
        "qc.measure([0, 1, 2, 3], [0, 1, 2, 3])\n",
        "\n",
        "# Simulate the circuit\n",
        "backend = Aer.get_backend('qasm_simulator')\n",
        "trials_number = 100\n",
        "# result = execute(qc, backend, shots=trials_number).result()\n",
        "result = transpile(qc, backend)\n",
        "job = backend.run(result, shots=trials_number)\n",
        "result = job.result()\n",
        "counts = result.get_counts()\n",
        "# print(counts)\n",
        "for state, c in counts.items():\n",
        "    print(\"Probability of observing\", state, \": \" ,c/trials_number)"
      ],
      "metadata": {
        "id": "WGgKbgPkMTmJ"
      },
      "execution_count": null,
      "outputs": []
    },
    {
      "cell_type": "markdown",
      "source": [
        "## Example 03"
      ],
      "metadata": {
        "id": "eiseoYjBO0tQ"
      }
    },
    {
      "cell_type": "code",
      "source": [
        "from qiskit import QuantumCircuit\n",
        "from qiskit.circuit.library import XGate, ZGate, HGate, CXGate, CCXGate ,mcrz , MCXGate\n",
        "from qiskit.quantum_info import Statevector\n",
        "\n",
        "def edge_check(qc, a, b, c):\n",
        "    qc.cx(a, c)\n",
        "    qc.cx(b, c)\n",
        "\n",
        "def inv_edge_check(qc, a, b, c):\n",
        "    qc.cx(b, c)\n",
        "    qc.cx(a, c)\n",
        "\n",
        "\n",
        "def oracle_computation():\n",
        "    # check all edges\n",
        "    edge_check(0, 1, 5)\n",
        "    edge_check(0, 3, 6)\n",
        "    edge_check(0, 4, 7)\n",
        "    edge_check(1, 3, 8)\n",
        "    edge_check(1, 4, 9)\n",
        "    edge_check(2, 3, 10)\n",
        "    edge_check(2, 4, 11)\n",
        "\n",
        "    qc.cx(5, 12)\n",
        "\n",
        "    for j in range(6,8):\n",
        "        qc.ccx(j, [12, 13])\n",
        "        qc.cx(j, 12)\n",
        "\n",
        "    for j in range(8,12):\n",
        "      mcx = MCXGate(num_ctrl_qubits=2)\n",
        "      qc.append(mcx, qargs=[j,12, 13,14])\n",
        "      qc.ccx(j, [12,13])\n",
        "      qc.cx(j, 12)\n",
        "\n",
        "      qc.ccx(13, [14,15])\n",
        "\n",
        "\n",
        "\n",
        "\n",
        "\n",
        "def oracle():\n",
        "    oracle_computation(qc)\n",
        "    qc.z(15)\n",
        "    inv_oracle_computation(qc)\n",
        "\n",
        "\n",
        "def grover_diffusion(qc):\n",
        "    qc.h([0, 1, 2, 3,4])\n",
        "    qc.x([0, 1, 2, 3,4])\n",
        "    qc.h(4)\n",
        "    mcx = MCXGate(num_ctrl_qubits=4)\n",
        "    qc.append(mcx, qargs=[0, 1,2,3,4])\n",
        "    qc.h(4)\n",
        "    qc.x([0, 1, 2, 3,4])\n",
        "    qc.h([0, 1, 2, 3,4])"
      ],
      "metadata": {
        "id": "gpF05ESsO4f6"
      },
      "execution_count": null,
      "outputs": []
    },
    {
      "cell_type": "code",
      "source": [
        "# Measure the first 4 qubits\n",
        "qc.measure([0, 1, 2, 3,4], [0, 1, 2, 3,4])\n",
        "\n",
        "# Simulate the circuit\n",
        "backend = Aer.get_backend('qasm_simulator')\n",
        "trials_number = 100\n",
        "# result = execute(qc, backend, shots=trials_number).result()\n",
        "result = transpile(qc, backend)\n",
        "job = backend.run(result, shots=trials_number)\n",
        "result = job.result()\n",
        "counts = result.get_counts()\n",
        "# print(counts)\n",
        "for state, c in counts.items():\n",
        "    print(\"Probability of observing\", state, \": \" ,c/trials_number)"
      ],
      "metadata": {
        "id": "dVlGcS9QQNxz"
      },
      "execution_count": null,
      "outputs": []
    },
    {
      "cell_type": "markdown",
      "source": [
        "## Extras"
      ],
      "metadata": {
        "id": "BRvAQqQnNepG"
      }
    },
    {
      "cell_type": "code",
      "source": [
        "from qiskit import QuantumCircuit\n",
        "from qiskit.circuit.library import XGate, ZGate, HGate, CXGate, CCXGate ,mcrz , MCU1Gate , MCXGate\n",
        "from qiskit.quantum_info import Statevector\n",
        "\n",
        "def inv_edge_check(qc, a, b, c):\n",
        "    qc.cx(b, c)\n",
        "    qc.cx(a, c)\n",
        "\n",
        "\n",
        "def inv_oracle_computation(qc):\n",
        "\n",
        "\n",
        "    qc.mcx([8, 9, 10], 11)\n",
        "    # Note we don't have to undo the X gates\n",
        "    qc.x(9)\n",
        "    # Check if number is equal to four\n",
        "    qc.x(8)\n",
        "    qc.cx(7, 8)\n",
        "    qc.ccx(7, 8, 9)\n",
        "    qc.mcx([7, 8, 9], 10)  # Multi-controlled X gate\n",
        "    qc.cx(6, 8)\n",
        "    qc.ccx(6, 8, 9)\n",
        "    qc.cx(5, 8)\n",
        "    qc.ccx(5, 8, 9)\n",
        "    # Add outputs of edge checking\n",
        "    qc.cx(4, 8)\n",
        "    # Check all edges\n",
        "    inv_edge_check(qc, 1, 3, 7)\n",
        "    inv_edge_check(qc, 1, 2, 6)\n",
        "    inv_edge_check(qc, 0, 3, 5)\n",
        "    inv_edge_check(qc, 0, 2, 4)\n",
        "\n",
        "\n",
        "\n",
        "# 0-3: vertices\n",
        "# 4-7: edge checking\n",
        "# 8-10: the number\n",
        "# 11: auxiliary\n",
        "\n",
        "# def edge_check(qc, a, b, c):\n",
        "#     yield qc.cx(a, c)\n",
        "#     yield qc.cx(b, c)\n",
        "\n",
        "def edge_check(qc, a, b, c):\n",
        "    qc.cx(a, c)\n",
        "    qc.cx(b, c)\n",
        "\n",
        "# def oracle_computation(qc):\n",
        "#     # Check all edges\n",
        "#     yield edge_check(qc, 0, 2, 4)\n",
        "#     yield edge_check(qc, 0, 3, 5)\n",
        "#     yield edge_check(qc, 1, 2, 6)\n",
        "#     yield edge_check(qc, 1, 3, 7)\n",
        "\n",
        "\n",
        "    # Add outputs of edge checking\n",
        "    # yield qc.cx(4, 8)\n",
        "\n",
        "    # yield qc.ccx(5, 8, 9)\n",
        "    # yield qc.cx(5, 8)\n",
        "\n",
        "    # yield qc.ccx(6, 8, 9)\n",
        "    # yield qc.cx(6, 8)\n",
        "\n",
        "    # yield qc.mcx([7, 8, 9], 10)  # Multi-controlled X gate\n",
        "    # yield qc.ccx(7, 8, 9)\n",
        "    # yield qc.cx(7, 8)\n",
        "\n",
        "    # # Check if number is equal to four\n",
        "    # yield qc.x(8)\n",
        "    # yield qc.x(9)\n",
        "    # yield qc.mcx([8, 9, 10], 11)\n",
        "    # Note we don't have to undo the X gates\n",
        "\n",
        "def oracle_computation(qc):\n",
        "    # Check all edges\n",
        "    edge_check(qc, 0, 2, 4)\n",
        "    edge_check(qc, 0, 3, 5)\n",
        "    edge_check(qc, 1, 2, 6)\n",
        "    edge_check(qc, 1, 3, 7)\n",
        "\n",
        "    # Add outputs of edge checking\n",
        "    qc.cx(4, 8)\n",
        "\n",
        "    qc.ccx(5, 8, 9)\n",
        "    qc.cx(5, 8)\n",
        "\n",
        "    qc.ccx(6, 8, 9)\n",
        "    qc.cx(6, 8)\n",
        "\n",
        "    qc.mcx([7, 8, 9], 10)  # Multi-controlled X gate\n",
        "    qc.ccx(7, 8, 9)\n",
        "    qc.cx(7, 8)\n",
        "\n",
        "    # Check if number is equal to four\n",
        "    qc.x(8)\n",
        "    qc.x(9)\n",
        "    qc.mcx([8, 9, 10], 11)\n",
        "    # Note we don't have to undo the X gates\n",
        "\n",
        "# def oracle(qc):\n",
        "#     yield oracle_computation(qc)\n",
        "#     yield qc.z(11)\n",
        "#     yield inverse(oracle_computation(qc))\n",
        "\n",
        "def oracle(qc):\n",
        "  oracle_computation(qc)\n",
        "  qc.z(11)\n",
        "  inv_oracle_computation(qc)\n",
        "\n",
        "def grover_diffusion(qc):\n",
        "    qc.h([0, 1, 2, 3])\n",
        "    qc.x([0, 1, 2, 3])\n",
        "    qc.h(2)\n",
        "    mcx = MCXGate(num_ctrl_qubits=2)\n",
        "    qc.append(mcx, qargs=[0, 1,2])\n",
        "    qc.h(2)\n",
        "    # qc.mcrz(0, [0, 1, 2], 3)  # Multi-controlled RZ gate\n",
        "    qc.x([0, 1, 2, 3])\n",
        "    qc.h([0, 1, 2, 3])\n",
        "\n",
        "\n",
        "# Initialize the circuit\n",
        "qc = QuantumCircuit(12, 3)\n",
        "\n",
        "# Apply Hadamard gates to the first 4 qubits\n",
        "qc.h([0, 1, 2, 3])\n",
        "\n",
        "# Grover iterations\n",
        "for i in range(1):\n",
        "    oracle(qc)\n",
        "    grover_diffusion(qc)\n",
        "\n",
        "# Measure the first 4 qubits\n",
        "qc.measure([0, 1, 2], [0, 1, 2])\n",
        "\n",
        "# Simulate the circuit\n",
        "backend = Aer.get_backend('qasm_simulator')\n",
        "trials_number = 100\n",
        "# result = execute(qc, backend, shots=trials_number).result()\n",
        "result = transpile(qc, backend)\n",
        "job = backend.run(result, shots=trials_number)\n",
        "result = job.result()\n",
        "counts = result.get_counts()\n",
        "print(counts)\n",
        "# print(\"Random guess probability:\", 1/2**4)\n",
        "# # Print the histogram results\n",
        "# for state, c in counts.items():\n",
        "#     print(f\"Probability of observing {state} : {c/trials_number}\")\n"
      ],
      "metadata": {
        "id": "oyuGroaMDe0-"
      },
      "execution_count": null,
      "outputs": []
    },
    {
      "cell_type": "code",
      "source": [
        "def edge_check(qc,a, b, c):\n",
        "  qc.cx(a, c)\n",
        "  qc.cx(b, c)\n",
        "  yield qc\n",
        "\n",
        "\n",
        "# Initialize the circuit\n",
        "qc = QuantumCircuit(4, 3)\n",
        "edge_check(qc,0, 1, 2)\n",
        "print(qc)"
      ],
      "metadata": {
        "colab": {
          "base_uri": "https://localhost:8080/"
        },
        "id": "xU19E9X1CxrT",
        "outputId": "2597dcba-7b3e-4a00-8a10-77ced9842dec"
      },
      "execution_count": null,
      "outputs": [
        {
          "output_type": "stream",
          "name": "stdout",
          "text": [
            "               \n",
            "q_0: ──■───────\n",
            "       │       \n",
            "q_1: ──┼────■──\n",
            "     ┌─┴─┐┌─┴─┐\n",
            "q_2: ┤ X ├┤ X ├\n",
            "     └───┘└───┘\n",
            "q_3: ──────────\n",
            "               \n",
            "c: 3/══════════\n",
            "               \n"
          ]
        }
      ]
    },
    {
      "cell_type": "code",
      "source": [
        "from qiskit.circuit.library import XGate, ZGate, HGate, CXGate, CCXGate ,mcrz , MCU1Gate , MCXGate\n",
        "\n",
        "# Initialize the circuit\n",
        "qc = QuantumCircuit(4, 3)\n",
        "# Create a multi-controlled X gate with 3 control qubits\n",
        "mcx = MCXGate(num_ctrl_qubits=3)\n",
        "# Apply the MCX gate with qubits 0, 1, and 2 as controls and qubit 3 as the target\n",
        "qc.h(3)\n",
        "qc.append(mcx, qargs=[0, 1, 2, 3])\n",
        "qc.h(3)\n",
        "# oracle_computation(qc)\n",
        "# inv_oracle_computation(qc)\n",
        "print(qc)\n",
        "\n",
        "\n",
        "qc.measure([0, 1, 2], [0, 1, 2])\n",
        "# Simulate the circuit\n",
        "backend = Aer.get_backend('qasm_simulator')\n",
        "trials_number = 100\n",
        "# result = execute(qc, backend, shots=trials_number).result()\n",
        "result = transpile(qc, backend)\n",
        "job = backend.run(result, shots=trials_number)\n",
        "result = job.result()\n",
        "counts = result.get_counts()\n",
        "print(counts)"
      ],
      "metadata": {
        "id": "dXDhuRgHDwF-"
      },
      "execution_count": null,
      "outputs": []
    },
    {
      "cell_type": "code",
      "source": [
        "def pra(qc,a, b, c):\n",
        "  qc.cx(a, c)\n",
        "  yield qc"
      ],
      "metadata": {
        "id": "vg-pTKuCRAHR"
      },
      "execution_count": null,
      "outputs": []
    },
    {
      "cell_type": "code",
      "source": [
        "from qiskit import QuantumCircuit\n",
        "\n",
        "def edge_check(a,b):\n",
        "    qc.cx(a,b)\n",
        "    yield qc\n",
        "\n",
        "num_qubits = 3\n",
        "qc = QuantumCircuit(num_qubits)\n",
        "for i in edge_check(0,1):\n",
        "  None\n",
        "for i in edge_check(0,1):\n",
        "  None\n",
        "print(qc)"
      ],
      "metadata": {
        "colab": {
          "base_uri": "https://localhost:8080/"
        },
        "id": "w4z0qzdtDxY7",
        "outputId": "c3488ec7-015b-4fa9-9b8f-88f0ec42ccfb"
      },
      "execution_count": null,
      "outputs": [
        {
          "output_type": "stream",
          "name": "stdout",
          "text": [
            "               \n",
            "q_0: ──■────■──\n",
            "     ┌─┴─┐┌─┴─┐\n",
            "q_1: ┤ X ├┤ X ├\n",
            "     └───┘└───┘\n",
            "q_2: ──────────\n",
            "               \n"
          ]
        }
      ]
    },
    {
      "cell_type": "markdown",
      "source": [
        "# QSharp"
      ],
      "metadata": {
        "id": "Yq-qrC7HDJc3"
      }
    },
    {
      "cell_type": "code",
      "source": [
        "# Installing qsharp\n",
        "!pip install qsharp\n",
        "!pip install qsharp_widgets"
      ],
      "metadata": {
        "id": "ZBmo8bOtUc7Y"
      },
      "execution_count": null,
      "outputs": []
    },
    {
      "cell_type": "code",
      "source": [
        "# importing necessary modules for qsharp\n",
        "import qsharp\n",
        "from qsharp.utils import dump_operation\n",
        "from qsharp_widgets import Circuit\n",
        "from qsharp_widgets import SpaceChart, EstimateDetails"
      ],
      "metadata": {
        "id": "VuU7lPkm_584"
      },
      "execution_count": null,
      "outputs": []
    },
    {
      "cell_type": "code",
      "source": [
        "%%qsharp\n",
        "\n",
        "open Microsoft.Quantum.Intrinsic;\n",
        "open Microsoft.Quantum.Canon;\n",
        "open Microsoft.Quantum.Math as Math;\n",
        "open Microsoft.Quantum.Math;\n",
        "open Microsoft.Quantum.Unstable.StatePreparation;\n",
        "open Microsoft.Quantum.Convert;\n",
        "\n",
        "\n",
        "operation oracle_computation(q: Qubit): Unit is Adj + Ctl{\n",
        "\n",
        "    #edge checking\n",
        "    CX(qq[0], qq[3])\n",
        "    CX(qq[1], qq[3])\n",
        "    CX(qq[1], qq[4])\n",
        "    CX(qq[2], qq[4])\n",
        "\n",
        "    #adding qubit 3\n",
        "    CX(qq[3], qq[5])\n",
        "\n",
        "    #adding qubit 4\n",
        "    CCX(qq[4], qq[5], qq[6])\n",
        "    CX(qq[4], qq[5])\n",
        "\n",
        "    #check if b1 is equal to 1 and store the result in the auxillary qubit\n",
        "    CX(qq[6], qq[7])\n",
        " }\n",
        "\n",
        "operation oracle(qq: Qubit[]): Unit is Adj + Ctl{\n",
        "\n",
        "    oracle_computation()\n",
        "    Z(qq[7])\n",
        "    inverse(oracle_computation())\n",
        "}\n",
        "\n",
        "operation grover_diffusion(qq: Qubit[]): Unit is Adj + Ctl{\n",
        "\n",
        "    H(qq[0], qq[1], qq[2])\n",
        "    X(qq[0], qq[1], qq[2])\n",
        "    //Z(qq[2]).controlled_by(qq[0], qq[1])\n",
        "    H(qq[0], qq[1], qq[2])\n",
        "    X(qq[0], qq[1], qq[2])\n",
        "}\n",
        "\n",
        "\n",
        "operation MaxCut() : Result {\n",
        "\n",
        "for i in range(1):\n",
        "    oracle()\n",
        "    grover_diffusion()\n",
        "\n",
        "}\n",
        "\n",
        "\n",
        "\n",
        "circuit.append(cirq.measure(*qq[0:3], key='result'))\n",
        "\n",
        "# determine the statistics of the measurements\n",
        "trials_number = 10_000\n",
        "samples = s.run(circuit, repetitions=trials_number)\n",
        "\n",
        "print(\"Random guess probability:\", 1./2**3)\n",
        "\n",
        "# create an histogram of the result\n",
        "def bitstring(bits):\n",
        "    return \"\".join(str(int(b)) for b in bits)\n",
        "counts = samples.histogram(key=\"result\",fold_func=bitstring)\n",
        "for state, c in counts.items():\n",
        "    print(\"Probability of obsering\", state, \": \" ,c/trials_number)\n",
        "\n",
        "operation PrepareMyStateQSharp(amplitudes:Double[]) :Unit {\n",
        "\n",
        "        let N = Length(amplitudes);\n",
        "        let n = Log(IntAsDouble(N))/Log(2.0);\n",
        "        use qubits = Qubit[Round(n)];\n",
        "        PreparePureStateD(amplitudes, qubits);\n",
        "        let p = Microsoft.Quantum.Diagnostics.DumpMachine();\n",
        "        ResetAll(qubits);\n",
        "         MeasureEachZ(qubits);\n",
        "        return p\n",
        "    }"
      ],
      "metadata": {
        "id": "fe2m7E7l_8sm"
      },
      "execution_count": null,
      "outputs": []
    }
  ]
}