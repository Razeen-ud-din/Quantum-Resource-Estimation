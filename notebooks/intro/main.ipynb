{
 "cells": [
  {
   "cell_type": "markdown",
   "metadata": {},
   "source": [
    "# Resource Estimation"
   ]
  },
  {
   "cell_type": "markdown",
   "metadata": {},
   "source": [
    "## RSA\n",
    "\n",
    "At MIT, in 1977, [Ron **R**ivest](https://en.wikipedia.org/wiki/Ron_Rivest), [Adi **S**hamir](https://en.wikipedia.org/wiki/Adi_Shamir), and [Leonard **A**dleman](https://en.wikipedia.org/wiki/Leonard_Adleman) introduced the [RSA](https://en.wikipedia.org/wiki/RSA_(cryptosystem)) cryptosystem. Today, their encryption algorithm sees wide-ranging applications; securing emails, network traffic in VPNs, and even your bank account transactions.\n",
    "\n",
    "Given its uses in such sensitive domains, one would think that RSA is unbreakable; perhaps its inner workings are kept secret so no one can find out its vulnerabilites, or maybe it's just too complex for anyone to understand. Surprisingly, RSA's implementation is neither secret nor complex, and the algorithm that breaks it has been known since the day RSA was introduced.\n",
    "\n",
    "In fact, we can write that algorithm ourselves. At the heart of RSA is a known composite number, $r$, that has exactly two unknown prime factors, $p$ and $q$. All we need to decrypt an RSA-encrypted ciphertext is to find $p$ and $q$."
   ]
  },
  {
   "cell_type": "code",
   "execution_count": 1,
   "metadata": {},
   "outputs": [],
   "source": [
    "def factorize(r: int) -> tuple[int, int]:\n",
    "\t\"\"\"\n",
    "\tFactorizes the input into its two prime factors.\n",
    "\n",
    "\tParameters\n",
    "\t----------\n",
    "\tr\n",
    "\t\tThe number to factorize.\n",
    "\t\tMust be a positive composite integer that has exactly two prime factors.\n",
    "\n",
    "\tReturns\n",
    "\t-------\n",
    "\ttuple[int, int]\n",
    "\t\tThe two prime factors of the input number.\n",
    "\n",
    "\tRaises\n",
    "\t------\n",
    "\tValueError\n",
    "\t\tIf the input is prime.\n",
    "\t\"\"\"\n",
    "\tfrom math import floor, sqrt\n",
    "\n",
    "\t# We handle the case of 𝑝 = 2 separately to optimize future steps\n",
    "\tif r % 2 == 0:\n",
    "\t\tp = 2\n",
    "\t\tq = r // 2\n",
    "\t\treturn (p, q)\n",
    "\n",
    "\t# 𝑝 > 2 because we already checked if 𝑟 was an even number\n",
    "\tlower_limit = 2 + 1\n",
    "\n",
    "\t# 𝑝 < ⌊√𝑟⌋ + 1 because 𝑟 cannot have factors larger than √𝑟\n",
    "\tupper_limit = floor(sqrt(r)) + 1\n",
    "\n",
    "\t# 𝑝 is prime ⇒ 𝑝 is not an even number\n",
    "\t# ∴ we can take steps of size 2, if we start from 3\n",
    "\tstep_size = 2\n",
    "\n",
    "\tfor p in range(lower_limit, upper_limit, step_size):\n",
    "\t\tif r % p == 0:\n",
    "\t\t\tq = r // p\n",
    "\t\t\treturn (p, q)\n",
    "\n",
    "\t# Exiting loop without finding a factor ⇒ 𝑟 is prime\n",
    "\traise ValueError(\"r is prime\")"
   ]
  },
  {
   "cell_type": "markdown",
   "metadata": {},
   "source": [
    "To test our code, let's assume $p = 13$ and $q = 41$. Thus, $r = pq = 13 \\cdot 41 = 533$.\n",
    "\n",
    "Additionally, we will time our code to see how long it takes to find $p$ and $q$."
   ]
  },
  {
   "cell_type": "code",
   "execution_count": 2,
   "metadata": {},
   "outputs": [
    {
     "name": "stdout",
     "output_type": "stream",
     "text": [
      "Factorized 533 into 13 and 41 in 4.55·10⁻⁷ s.\n"
     ]
    }
   ],
   "source": [
    "from lib import time, sci\n",
    "\n",
    "r = 533\n",
    "time_taken = time(lambda: factorize(r))\n",
    "(p, q) = factorize(r)\n",
    "\n",
    "print(f\"Factorized {r} into {p} and {q} in {sci(f\"{time_taken:.2e}\")} s.\")"
   ]
  },
  {
   "cell_type": "markdown",
   "metadata": {},
   "source": [
    "On most modern computers, factorizing $533$ takes less than a microsecond. That sounds like bad news for RSA, but we should try a few more numbers before coming to any conclusions.\n",
    "\n",
    "Let's now take increasingly larger numbers and factorize them to see how long it takes."
   ]
  },
  {
   "cell_type": "code",
   "execution_count": 3,
   "metadata": {},
   "outputs": [
    {
     "name": "stdout",
     "output_type": "stream",
     "text": [
      "(⏳ 5.40·10⁻⁷ s) 6 = 2·3\n",
      "(⏳ 3.22·10⁻⁷ s) 55 = 5·11\n",
      "(⏳ 3.63·10⁻⁷ s) 533 = 13·41\n",
      "(⏳ 6.19·10⁻⁷ s) 4343 = 43·101\n",
      "(⏳ 1.66·10⁻⁶ s) 31937 = 109·293\n",
      "(⏳ 7.78·10⁻⁶ s) 689147 = 683·1009\n",
      "(⏳ 2.46·10⁻⁵ s) 6660079 = 1523·4373\n",
      "(⏳ 6.23·10⁻⁴ s) 85579567 = 8501·10067\n"
     ]
    }
   ],
   "source": [
    "numbers = [\n",
    "\t6,\n",
    "\t55,\n",
    "\t533,\n",
    "\t4_343,\n",
    "\t31_937,\n",
    "\t689_147,\n",
    "\t6_660_079,\n",
    "\t85_579_567,\n",
    "\t# 155_740_867,\n",
    "\t# 1_561_263_047,\n",
    "\t# 52_731_823_219,\n",
    "\t# 268343_805_029,\n",
    "]\n",
    "\n",
    "for r in numbers:\n",
    "\ttime_taken = time(lambda: factorize(r))\n",
    "\t(p, q) = factorize(r)\n",
    "\tprint(f\"(⏳ {sci(f\"{time_taken:.2e}\")} s) {r} = {p}·{q}\")"
   ]
  },
  {
   "cell_type": "markdown",
   "metadata": {},
   "source": [
    "As we might have expected, larger numbers take more time to factorize, but we still only need a few milliseconds for numbers as big as 50 billion. Just how big should $r$ be so that our algorithm takes an _unreasonably_ long time to factorize it?\n",
    "\n",
    "One way to answer that question is to plot the empirical data we have collected against some measure of how \"big\" $r$ is. In algorithm analysis, we often do not care about the _value_ of the input, but rather its _size_—usually, this means the length of the string representation of the input.\n",
    "\n",
    "In our case, we'll plot the time taken to factorize $r$ on the $y$-axis, and the number of digits in $r$ on the $x$-axis."
   ]
  },
  {
   "cell_type": "code",
   "execution_count": 4,
   "metadata": {},
   "outputs": [
    {
     "data": {
      "image/png": "[encoded data removed]",
      "text/plain": [
       "<Figure size 800x550 with 1 Axes>"
      ]
     },
     "metadata": {},
     "output_type": "display_data"
    }
   ],
   "source": [
    "from lib import plot\n",
    "\n",
    "plot(\n",
    "\tx = [len(str(r)) for r in numbers],\n",
    "\ty = [time(lambda: factorize(r)) * 1e6 for r in numbers],\n",
    "\tx_label = \"Number of digits ($n$)\",\n",
    "\ty_label = \"Time (μs)\",\n",
    "\ttitle = \"Prime Factorization\",\n",
    ")"
   ]
  },
  {
   "cell_type": "markdown",
   "metadata": {},
   "source": [
    "Finally, we see _why_ RSA is so secure. The time taken to factorize $r$ grows _exponentially_ with the number of digits in $r$, and modern RSA keys are over 600 digits long!\n",
    "\n",
    "What we have just done was a form of _resource estimation_—we estimated the resources (in this case, time—we will see other metrics later) required to break RSA. This is a powerful tool in computer science, as it allows us to understand the limits of our algorithms and systems. Simply having an algorithm that works is not enough; we must also know _how well_ it works."
   ]
  },
  {
   "cell_type": "markdown",
   "metadata": {},
   "source": [
    "## Hardware Considerations\n",
    "\n",
    "The theoretical time complexity of an algorithm is a good starting point, but it is not the whole story. In practice, the hardware on which the algorithm runs can have a significant impact on its performance.\n",
    "\n",
    "We will now look at an interesting case study comparing linked lists and arrays in the implementation of an algorithm proposed by [Jon Bentley](https://en.wikipedia.org/wiki/Jon_Bentley_(computer_scientist)). While the choice of data structure has theoretical implications, we will see that \"irrelevant\" factors like the programming language and details of the hardware / architecture can have a significant impact on the decision of choosing an implementation."
   ]
  },
  {
   "cell_type": "markdown",
   "metadata": {},
   "source": [
    "### The Algorithm\n",
    "\n",
    "---\n",
    "1. Generate $n$ random integers.\n",
    "2. Insert them into a sequence in numerical order.  \n",
    "For example, if our random integers were $5$, $1$, $4$, and $2$, the sequence would grow as follows:  \n",
    "\t* $5$\n",
    "\t* $1$, $5$\n",
    "\t* $1$, $4$, $5$\n",
    "\t* $1$, $2$, $4$, $5$\n",
    "3. Remove elements from the sequence, one at a time, choosing the element to remove at random.  \n",
    "For example, if we chose to remove the elements in the order $2$, $5$, $1$, and $4$, the sequence would shrink as follows:  \n",
    "\t* $1$, $2$, $4$, $5$\n",
    "\t* $1$, $4$, $5$\n",
    "\t* $1$, $4$\n",
    "\t* $4$\n",
    "4. Halt when the sequence is empty.\n",
    "---\n",
    "\n",
    "We have a sequence that grows and shrinks, while keeping the elements in numerical order. Doing so requires us to insert and delete elements in the middle of the sequence, so we will consider two implementations: one using a **linked list** and the other using an **array**. Let's quickly review these data structures to see what they are good at."
   ]
  },
  {
   "cell_type": "markdown",
   "metadata": {},
   "source": [
    "### Arrays\n",
    "\n",
    "An array is a data structure that stores a fixed-size collection of elements of the same type. The elements are stored in contiguous memory locations, which allows for fast access to individual elements. However, inserting or deleting elements in the middle of an array can be slow, as it requires shifting all subsequent elements.\n",
    "\n",
    "![Array](./assets/array.png)"
   ]
  },
  {
   "cell_type": "code",
   "execution_count": 5,
   "metadata": {},
   "outputs": [
    {
     "name": "stdout",
     "output_type": "stream",
     "text": [
      "╭───╮╭───╮╭───╮╭───╮\n",
      "│ 0 ││ 1 ││ 2 ││ 3 │\n",
      "╰───╯╰───╯╰───╯╰───╯\n"
     ]
    }
   ],
   "source": [
    "from lib.array import Array\n",
    "\n",
    "array = Array(1, 2, 3)\n",
    "array.insert(0, 0)\n",
    "print(array)"
   ]
  },
  {
   "cell_type": "markdown",
   "metadata": {},
   "source": [
    "### Linked Lists\n",
    "\n",
    "A linked list is a data structure that consists of nodes, where each node contains a value and a reference to the next node in the list. This structure allows for efficient insertion and deletion of elements, as it does not require shifting elements in memory. However, accessing individual elements in a linked list can be slower than in an array, as it requires traversing the list from the beginning.\n",
    "\n",
    "![List](./assets/list.png)"
   ]
  },
  {
   "cell_type": "code",
   "execution_count": 9,
   "metadata": {},
   "outputs": [
    {
     "name": "stdout",
     "output_type": "stream",
     "text": [
      "╭───╮╭-╮ \n",
      "│ 0 │ ·←\n",
      "╰───╯╰-╯ \n"
     ]
    }
   ],
   "source": [
    "from lib.list import List\n",
    "\n",
    "next = List.Node(1)\n",
    "previous = List.Node(1)\n",
    "node = List.Node(0, previous, next)\n",
    "\n",
    "print(node)"
   ]
  },
  {
   "cell_type": "markdown",
   "metadata": {},
   "source": [
    "### A Counterintuitive Comparison\n",
    "\n",
    "Consider the following algorithm:\n",
    "\n",
    "Since the algorithm involves lots of insertions and deletions, we might expect a linked list to outperform an array. However, the situation is more nuanced than it seems. In this tutorial, we will analyze the resource requirements of this algorithm for both arrays and linked lists."
   ]
  },
  {
   "cell_type": "code",
   "execution_count": 7,
   "metadata": {},
   "outputs": [],
   "source": [
    "# Ask the students for their implementation; might use it to benchmark against the solution\n",
    "\n",
    "def student_solution():\n",
    "\tpass"
   ]
  },
  {
   "cell_type": "markdown",
   "metadata": {},
   "source": [
    "#### Time Complexity\n",
    "\n",
    "We will now attempt to estimate the time complexity of the algorithm for both arrays and linked lists.\n",
    "\n",
    "Step 1 involves generating $n$ random integers, which can be done in $O(n)$ time for both arrays and linked lists. Therefore, we do not need to include this step in our analysis.\n",
    "\n",
    "Steps 2 and 3 involve first finding the correct position before insertion / deletion can take place. To keep things fair, we will make both arrays and linked lists perform linear search to find the correct position. This operation will take $O(n)$ time for both arrays and linked lists.\n",
    "\n",
    "That leaves only the insertion and deletion steps to consider. Let's analyze the time complexity of these steps for both arrays and linked lists."
   ]
  },
  {
   "cell_type": "markdown",
   "metadata": {},
   "source": [
    "#### Array Implementation Complexity\n",
    "\n",
    "To calculate the complexity of the algorithm when using an array, we need to consider the time required for inserting and deleting elements. Inserting an element into an array of size $n$ requires $O(n)$ time, as we may need to shift all subsequent elements. Deleting an element from an array also requires $O(n)$ time, as we may need to shift all subsequent elements. Therefore, the total time complexity of the algorithm when using an array is $O(n^2)$."
   ]
  },
  {
   "cell_type": "markdown",
   "metadata": {},
   "source": [
    "#### Linked List Implementation Complexity\n",
    "\n",
    "To calculate the complexity of the algorithm when using a linked list, we need to consider the time required for inserting and deleting elements. Inserting an element into a linked list of size $n$ requires $O(n)$ time, as we may need to traverse the list to find the correct position. Deleting an element from a linked list also requires $O(n)$ time, as we may need to traverse the list to find the element to delete. Therefore, the total time complexity of the algorithm when using a linked list is $O(n^2)$."
   ]
  },
  {
   "cell_type": "markdown",
   "metadata": {},
   "source": [
    " In theory, both arrays and linked lists have the same time complexity for this algorithm. However, in practice, arrays may outperform linked lists due to cache locality and other hardware-specific optimizations. In this tutorial, we will compare the performance of arrays and linked lists for this algorithm using Python."
   ]
  },
  {
   "cell_type": "code",
   "execution_count": 8,
   "metadata": {},
   "outputs": [],
   "source": [
    "# Benchmarks and plots of the array v linked list solution\n",
    "# Help the students see the different O(n^2) curves."
   ]
  },
  {
   "cell_type": "markdown",
   "metadata": {},
   "source": [
    "### Bjarne Stroustrup C++ Results\n",
    "\n",
    "[Video link](https://youtu.be/YQs6IC-vgmo?si=0U3VzesKsXyhNPCT)\n",
    "\n",
    "![C++](./assets/vector-list-perf.png)\n",
    "\n",
    "Finally, we show the shocking result from C++, where arrays always beat linked lists. This is due to the fact that the C++ standard library implementation of `std::vector` is highly optimized on modern CPU hardware, effectively utilizing caches and memory prefetching to outperform linked lists."
   ]
  },
  {
   "cell_type": "markdown",
   "metadata": {},
   "source": []
  }
 ],
 "metadata": {
  "kernelspec": {
   "display_name": "qre",
   "language": "python",
   "name": "python3"
  },
  "language_info": {
   "codemirror_mode": {
    "name": "ipython",
    "version": 3
   },
   "file_extension": ".py",
   "mimetype": "text/x-python",
   "name": "python",
   "nbconvert_exporter": "python",
   "pygments_lexer": "ipython3",
   "version": "3.12.5"
  }
 },
 "nbformat": 4,
 "nbformat_minor": 2
}
