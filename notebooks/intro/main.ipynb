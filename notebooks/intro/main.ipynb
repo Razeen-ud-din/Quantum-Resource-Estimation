{
 "cells": [
  {
   "cell_type": "markdown",
   "metadata": {},
   "source": [
    "# Resource Estimation\n",
    "\n",
    "Resource estimation is a crucial aspect of both classical and quantum computing. It involves predicting the computational resources required to execute a given algorithm. These resources can include time, memory, and other hardware-specific metrics.\n",
    "\n",
    "In this tutorial, we will explore resource estimation by comparing the performance of arrays and linked lists in a classical setting."
   ]
  },
  {
   "cell_type": "markdown",
   "metadata": {},
   "source": [
    "## Arrays\n",
    "\n",
    "An array is a data structure that stores a fixed-size collection of elements of the same type. The elements are stored in contiguous memory locations, which allows for fast access to individual elements. However, inserting or deleting elements in the middle of an array can be slow, as it requires shifting all subsequent elements.\n",
    "\n",
    "![Array](./assets/array.png)\n",
    "\n",
    "## Linked Lists\n",
    "\n",
    "A linked list is a data structure that consists of nodes, where each node contains a value and a reference to the next node in the list. This structure allows for efficient insertion and deletion of elements, as it does not require shifting elements in memory. However, accessing individual elements in a linked list can be slower than in an array, as it requires traversing the list from the beginning.\n",
    "\n",
    "![List](./assets/list.png)"
   ]
  },
  {
   "cell_type": "markdown",
   "metadata": {},
   "source": [
    "### A Counterintuitive Comparison\n",
    "\n",
    "Consider the following algorithm:\n",
    "1. Generate $n$ random integers.\n",
    "2. Insert them into a sequence in numerical order.  \n",
    "For example, if our random integers were $5$, $1$, $4$, and $2$, the sequence would grow as follows:  \n",
    "\t* $5$\n",
    "\t* $1$, $5$\n",
    "\t* $1$, $4$, $5$\n",
    "\t* $1$, $2$, $4$, $5$\n",
    "3. Remove elements from the sequence, one at a time, choosing the element to remove at random.  \n",
    "For example, if we chose to remove the elements in the order $2$, $5$, $1$, and $4$, the sequence would shrink as follows:  \n",
    "\t* $1$, $2$, $4$, $5$\n",
    "\t* $1$, $4$, $5$\n",
    "\t* $1$, $4$\n",
    "\t* $4$\n",
    "4. Halt when the sequence is empty.\n",
    "\n",
    "Since the algorithm involves lots of insertions and deletions, we might expect a linked list to outperform an array. However, the situation is more nuanced than it seems. In this tutorial, we will analyze the resource requirements of this algorithm for both arrays and linked lists."
   ]
  },
  {
   "cell_type": "code",
   "execution_count": 1,
   "metadata": {},
   "outputs": [],
   "source": [
    "# Ask the students for their implementation; might use it to benchmark against the solution\n",
    "\n",
    "def student_solution():\n",
    "\tpass"
   ]
  },
  {
   "cell_type": "markdown",
   "metadata": {},
   "source": [
    "#### Time Complexity\n",
    "\n",
    "We will now attempt to estimate the time complexity of the algorithm for both arrays and linked lists.\n",
    "\n",
    "Step 1 involves generating $n$ random integers, which can be done in $O(n)$ time for both arrays and linked lists. Therefore, we do not need to include this step in our analysis.\n",
    "\n",
    "Steps 2 and 3 involve first finding the correct position before insertion / deletion can take place. To keep things fair, we will make both arrays and linked lists perform linear search to find the correct position. This operation will take $O(n)$ time for both arrays and linked lists.\n",
    "\n",
    "That leaves only the insertion and deletion steps to consider. Let's analyze the time complexity of these steps for both arrays and linked lists."
   ]
  },
  {
   "cell_type": "markdown",
   "metadata": {},
   "source": [
    "#### Array Implementation Complexity\n",
    "\n",
    "To calculate the complexity of the algorithm when using an array, we need to consider the time required for inserting and deleting elements. Inserting an element into an array of size $n$ requires $O(n)$ time, as we may need to shift all subsequent elements. Deleting an element from an array also requires $O(n)$ time, as we may need to shift all subsequent elements. Therefore, the total time complexity of the algorithm when using an array is $O(n^2)$."
   ]
  },
  {
   "cell_type": "markdown",
   "metadata": {},
   "source": [
    "#### Linked List Implementation Complexity\n",
    "\n",
    "To calculate the complexity of the algorithm when using a linked list, we need to consider the time required for inserting and deleting elements. Inserting an element into a linked list of size $n$ requires $O(n)$ time, as we may need to traverse the list to find the correct position. Deleting an element from a linked list also requires $O(n)$ time, as we may need to traverse the list to find the element to delete. Therefore, the total time complexity of the algorithm when using a linked list is $O(n^2)$."
   ]
  },
  {
   "cell_type": "markdown",
   "metadata": {},
   "source": [
    " In theory, both arrays and linked lists have the same time complexity for this algorithm. However, in practice, arrays may outperform linked lists due to cache locality and other hardware-specific optimizations. In this tutorial, we will compare the performance of arrays and linked lists for this algorithm using Python."
   ]
  },
  {
   "cell_type": "code",
   "execution_count": 2,
   "metadata": {},
   "outputs": [],
   "source": [
    "# Benchmarks and plots of the array v linked list solution\n",
    "# Help the students see the different O(n^2) curves."
   ]
  },
  {
   "cell_type": "markdown",
   "metadata": {},
   "source": [
    "### Bjarne Stroustrup C++ Results\n",
    "\n",
    "[Video link](https://youtu.be/YQs6IC-vgmo?si=0U3VzesKsXyhNPCT)\n",
    "\n",
    "![C++](./assets/vector-list-perf.png)\n",
    "\n",
    "Finally, we show the shocking result from C++, where arrays always beat linked lists. This is due to the fact that the C++ standard library implementation of `std::vector` is highly optimized on modern CPU hardware, effectively utilizing caches and memory prefetching to outperform linked lists."
   ]
  },
  {
   "cell_type": "markdown",
   "metadata": {},
   "source": []
  }
 ],
 "metadata": {
  "kernelspec": {
   "display_name": "qre",
   "language": "python",
   "name": "python3"
  },
  "language_info": {
   "codemirror_mode": {
    "name": "ipython",
    "version": 3
   },
   "file_extension": ".py",
   "mimetype": "text/x-python",
   "name": "python",
   "nbconvert_exporter": "python",
   "pygments_lexer": "ipython3",
   "version": "3.12.5"
  }
 },
 "nbformat": 4,
 "nbformat_minor": 2
}
