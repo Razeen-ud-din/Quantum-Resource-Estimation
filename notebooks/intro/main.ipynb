{
 "cells": [
  {
   "cell_type": "markdown",
   "metadata": {},
   "source": [
    "# Resource Estimation"
   ]
  },
  {
   "cell_type": "markdown",
   "metadata": {},
   "source": [
    "At MIT, in 1977, [Ron **R**ivest](https://en.wikipedia.org/wiki/Ron_Rivest), [Adi **S**hamir](https://en.wikipedia.org/wiki/Adi_Shamir), and [Leonard **A**dleman](https://en.wikipedia.org/wiki/Leonard_Adleman) introduced the [RSA](https://en.wikipedia.org/wiki/RSA_(cryptosystem)) cryptosystem. Today, their encryption algorithm sees wide-ranging applications; securing emails, network traffic in VPNs, and even your bank account transactions.\n",
    "\n",
    "Given its uses in such sensitive domains, one would think that RSA is unbreakable; perhaps its inner workings are kept secret so no one can find out its vulnerabilites, or maybe it's just too complex for anyone to understand. Surprisingly, RSA's implementation is neither secret nor complex, and the algorithm that breaks it has been known since the day it was introduced.\n",
    "\n",
    "In fact, we can write that algorithm ourselves. At the heart of RSA is a known number, $r$, that has two unknown prime factors, $p$ and $q$. All we need to decrypt an RSA-encrypted ciphertext is to find $p$ and $q$."
   ]
  },
  {
   "cell_type": "code",
   "execution_count": 6,
   "metadata": {},
   "outputs": [],
   "source": [
    "def factorize(r: int) -> tuple[int, int]:\n",
    "\t\"\"\"\n",
    "\tFactorizes the input into its two prime factors.\n",
    "\n",
    "\tParameters\n",
    "\t----------\n",
    "\tr\n",
    "\t\tThe number to factorize.\n",
    "\t\tMust be a positive composite integer that has exactly two prime factors.\n",
    "\n",
    "\tReturns\n",
    "\t-------\n",
    "\ttuple[int, int]\n",
    "\t\tThe two prime factors of the input number.\n",
    "\n",
    "\tRaises\n",
    "\t------\n",
    "\tValueError\n",
    "\t\tIf the input is prime.\n",
    "\t\"\"\"\n",
    "\tfrom math import floor, sqrt\n",
    "\n",
    "\t# We handle the special case of 2 separately so we can optimize later\n",
    "\tif r % 2 == 0:\n",
    "\t\tp = 2\n",
    "\t\tq = r // 2\n",
    "\t\treturn (p, q)\n",
    "\n",
    "\t# 𝑝 > 2 because we already checked if 𝑟 was an even number\n",
    "\tlower_limit = 3\n",
    "\n",
    "\t# 𝑝 < ⌊√𝑟 + 1⌋ because 𝑟 cannot have factors larger than √𝑟\n",
    "\tupper_limit = floor(sqrt(r) + 1)\n",
    "\n",
    "\t# 𝑝 is prime ⇒ 𝑝 is not an even number\n",
    "\t# ∴ we can take steps of size 2, if we start from 3\n",
    "\tstep_size = 2\n",
    "\n",
    "\tfor p in range(lower_limit, upper_limit, step_size):\n",
    "\t\tif r % p == 0:\n",
    "\t\t\tq = r // p\n",
    "\t\t\treturn (p, q)\n",
    "\n",
    "\t# Exiting loop without finding a factor ⇒ 𝑟 is prime\n",
    "\traise ValueError(\"r is prime\")"
   ]
  },
  {
   "cell_type": "markdown",
   "metadata": {},
   "source": [
    "To test our code, let's assume $p = 43$ and $q = 97$. Thus, $r = pq = 43 \\cdot 97 = 4171$.\n",
    "\n",
    "Additionally, we will time our code to see how long it takes to find $p$ and $q$."
   ]
  },
  {
   "cell_type": "code",
   "execution_count": 11,
   "metadata": {},
   "outputs": [
    {
     "name": "stdout",
     "output_type": "stream",
     "text": [
      "Factorized r in 1.92900188267231e-06 s\n",
      "(p, q) = (43, 97)\n"
     ]
    }
   ],
   "source": [
    "from lib import time\n",
    "\n",
    "r = 4171\n",
    "time_taken = time(lambda: factorize(r))\n",
    "(p, q) = factorize(r)\n",
    "\n",
    "print(\"Factorized r in\", time_taken, \"s\")\n",
    "print(\"(p, q) =\", (p, q))"
   ]
  },
  {
   "cell_type": "markdown",
   "metadata": {},
   "source": [
    "On most modern computers, factorizing $4171$ only takes a few microseconds. That sounds like bad news for RSA, but we should try a few more numbers before coming to any conclusions.\n",
    "\n",
    "We will now take increasingly larger numbers and factorize them to see how long it takes."
   ]
  },
  {
   "cell_type": "markdown",
   "metadata": {},
   "source": [
    "Resource estimation is a crucial aspect of both classical and quantum computing. It involves predicting the computational resources required to execute a given algorithm. These resources can include time, memory, and other hardware-specific metrics.\n",
    "\n",
    "In this tutorial, we will explore resource estimation by comparing the performance of arrays and linked lists in a classical setting."
   ]
  },
  {
   "cell_type": "markdown",
   "metadata": {},
   "source": [
    "## Arrays\n",
    "\n",
    "An array is a data structure that stores a fixed-size collection of elements of the same type. The elements are stored in contiguous memory locations, which allows for fast access to individual elements. However, inserting or deleting elements in the middle of an array can be slow, as it requires shifting all subsequent elements.\n",
    "\n",
    "![Array](./assets/array.png)\n",
    "\n",
    "## Linked Lists\n",
    "\n",
    "A linked list is a data structure that consists of nodes, where each node contains a value and a reference to the next node in the list. This structure allows for efficient insertion and deletion of elements, as it does not require shifting elements in memory. However, accessing individual elements in a linked list can be slower than in an array, as it requires traversing the list from the beginning.\n",
    "\n",
    "![List](./assets/list.png)"
   ]
  },
  {
   "cell_type": "markdown",
   "metadata": {},
   "source": [
    "### A Counterintuitive Comparison\n",
    "\n",
    "Consider the following algorithm:\n",
    "1. Generate $n$ random integers.\n",
    "2. Insert them into a sequence in numerical order.  \n",
    "For example, if our random integers were $5$, $1$, $4$, and $2$, the sequence would grow as follows:  \n",
    "\t* $5$\n",
    "\t* $1$, $5$\n",
    "\t* $1$, $4$, $5$\n",
    "\t* $1$, $2$, $4$, $5$\n",
    "3. Remove elements from the sequence, one at a time, choosing the element to remove at random.  \n",
    "For example, if we chose to remove the elements in the order $2$, $5$, $1$, and $4$, the sequence would shrink as follows:  \n",
    "\t* $1$, $2$, $4$, $5$\n",
    "\t* $1$, $4$, $5$\n",
    "\t* $1$, $4$\n",
    "\t* $4$\n",
    "4. Halt when the sequence is empty.\n",
    "\n",
    "Since the algorithm involves lots of insertions and deletions, we might expect a linked list to outperform an array. However, the situation is more nuanced than it seems. In this tutorial, we will analyze the resource requirements of this algorithm for both arrays and linked lists."
   ]
  },
  {
   "cell_type": "code",
   "execution_count": 4,
   "metadata": {},
   "outputs": [],
   "source": [
    "# Ask the students for their implementation; might use it to benchmark against the solution\n",
    "\n",
    "def student_solution():\n",
    "\tpass"
   ]
  },
  {
   "cell_type": "markdown",
   "metadata": {},
   "source": [
    "#### Time Complexity\n",
    "\n",
    "We will now attempt to estimate the time complexity of the algorithm for both arrays and linked lists.\n",
    "\n",
    "Step 1 involves generating $n$ random integers, which can be done in $O(n)$ time for both arrays and linked lists. Therefore, we do not need to include this step in our analysis.\n",
    "\n",
    "Steps 2 and 3 involve first finding the correct position before insertion / deletion can take place. To keep things fair, we will make both arrays and linked lists perform linear search to find the correct position. This operation will take $O(n)$ time for both arrays and linked lists.\n",
    "\n",
    "That leaves only the insertion and deletion steps to consider. Let's analyze the time complexity of these steps for both arrays and linked lists."
   ]
  },
  {
   "cell_type": "markdown",
   "metadata": {},
   "source": [
    "#### Array Implementation Complexity\n",
    "\n",
    "To calculate the complexity of the algorithm when using an array, we need to consider the time required for inserting and deleting elements. Inserting an element into an array of size $n$ requires $O(n)$ time, as we may need to shift all subsequent elements. Deleting an element from an array also requires $O(n)$ time, as we may need to shift all subsequent elements. Therefore, the total time complexity of the algorithm when using an array is $O(n^2)$."
   ]
  },
  {
   "cell_type": "markdown",
   "metadata": {},
   "source": [
    "#### Linked List Implementation Complexity\n",
    "\n",
    "To calculate the complexity of the algorithm when using a linked list, we need to consider the time required for inserting and deleting elements. Inserting an element into a linked list of size $n$ requires $O(n)$ time, as we may need to traverse the list to find the correct position. Deleting an element from a linked list also requires $O(n)$ time, as we may need to traverse the list to find the element to delete. Therefore, the total time complexity of the algorithm when using a linked list is $O(n^2)$."
   ]
  },
  {
   "cell_type": "markdown",
   "metadata": {},
   "source": [
    " In theory, both arrays and linked lists have the same time complexity for this algorithm. However, in practice, arrays may outperform linked lists due to cache locality and other hardware-specific optimizations. In this tutorial, we will compare the performance of arrays and linked lists for this algorithm using Python."
   ]
  },
  {
   "cell_type": "code",
   "execution_count": 5,
   "metadata": {},
   "outputs": [],
   "source": [
    "# Benchmarks and plots of the array v linked list solution\n",
    "# Help the students see the different O(n^2) curves."
   ]
  },
  {
   "cell_type": "markdown",
   "metadata": {},
   "source": [
    "### Bjarne Stroustrup C++ Results\n",
    "\n",
    "[Video link](https://youtu.be/YQs6IC-vgmo?si=0U3VzesKsXyhNPCT)\n",
    "\n",
    "![C++](./assets/vector-list-perf.png)\n",
    "\n",
    "Finally, we show the shocking result from C++, where arrays always beat linked lists. This is due to the fact that the C++ standard library implementation of `std::vector` is highly optimized on modern CPU hardware, effectively utilizing caches and memory prefetching to outperform linked lists."
   ]
  },
  {
   "cell_type": "markdown",
   "metadata": {},
   "source": []
  }
 ],
 "metadata": {
  "kernelspec": {
   "display_name": "qre",
   "language": "python",
   "name": "python3"
  },
  "language_info": {
   "codemirror_mode": {
    "name": "ipython",
    "version": 3
   },
   "file_extension": ".py",
   "mimetype": "text/x-python",
   "name": "python",
   "nbconvert_exporter": "python",
   "pygments_lexer": "ipython3",
   "version": "3.12.5"
  }
 },
 "nbformat": 4,
 "nbformat_minor": 2
}
