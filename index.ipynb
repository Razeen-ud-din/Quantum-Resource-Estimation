{
 "cells": [
  {
   "cell_type": "markdown",
   "metadata": {},
   "source": [
    "# Contents\n",
    "\n",
    "- [Introduction](./notebooks/intro/main.ipynb)\n",
    "- [Grover](./notebooks/Grovers_Algorithm.ipynb)\n",
    "- [Qiskit-Azure QRE](./notebooks/Qiskit-Azure_RE.ipynb)\n",
    "- [Sparse State Preparation](./notebooks/Quantum__Sparse_State_Preparation.ipynb)\n",
    "- [Sparse State Preparation (Extended)](./notebooks/Sparse_State_extended_work.ipynb)\n",
    "- [Max-Cut](./notebooks/RE_Max_Cut_Problem.ipynb)\n"
   ]
  },
  {
   "cell_type": "markdown",
   "metadata": {},
   "source": []
  }
 ],
 "metadata": {
  "kernelspec": {
   "display_name": "qre",
   "language": "python",
   "name": "python3"
  },
  "language_info": {
   "codemirror_mode": {
    "name": "ipython",
    "version": 3
   },
   "file_extension": ".py",
   "mimetype": "text/x-python",
   "name": "python",
   "nbconvert_exporter": "python",
   "pygments_lexer": "ipython3",
   "version": "3.12.5"
  }
 },
 "nbformat": 4,
 "nbformat_minor": 2
}
