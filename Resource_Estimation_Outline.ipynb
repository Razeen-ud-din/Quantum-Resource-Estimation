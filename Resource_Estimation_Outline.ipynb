{
  "nbformat": 4,
  "nbformat_minor": 0,
  "metadata": {
    "colab": {
      "provenance": []
    },
    "kernelspec": {
      "name": "python3",
      "display_name": "Python 3"
    },
    "language_info": {
      "name": "python"
    }
  },
  "cells": [
    {
      "cell_type": "markdown",
      "source": [
        "# Azure QRE Workshop\n",
        "\n",
        "## Notebook 0: Introduction to Resource Estimation\n",
        "\n",
        "- What is Resource Estimation?\n",
        "- Why do we need it?\n",
        "- Different examples of asymptotic complexity versus practical resource usage\n",
        "  - Mergesort vs Quicksort\n",
        "  - Array vs Linked Lists\n",
        "  - Classical error correction\n",
        "\n",
        "## Notebook 1: Classical Computing Resource Estimation\n",
        "- Error correction in classical computing: we need reduntant information\n",
        "  - Types of errors\n",
        "  - Error detection and correction techniques\n",
        "- Physical vs. logical bits in classical computing\n",
        "- Resource estimation in classical computing\n",
        "  - Time complexity\n",
        "  - Space complexity\n",
        "- Hands-on: Building a simple classical resource estimator\n",
        "\n",
        "## Notebook 2: Introduction to Quantum Resource Estimation\n",
        "\n",
        "- The importance of resource estimation in quantum computing\n",
        "  - How many qubits are needed for useful quantum computations?\n",
        "  - How long until quantum-safe encryption is needed?\n",
        "\n",
        "  - Basics of quantum error correction (to understand why and how much overhead is involved)\n",
        "- Resource estimation challenges in quantum computing (Key points / features)\n",
        "  - Qubit count (Circuit width)\n",
        "    - Physical vs. logical qubits\n",
        "  - Circuit depth\n",
        "  - Fault tolerance\n",
        "  - Error Correction Schemes\n",
        "  - Hardware topology\n",
        "  - Gate count\n",
        "  - (Universal) gate sets\n",
        "  - T gates\n",
        "\n",
        "- Introduction to Azure QRE and other estimators\n",
        "\n",
        "\n",
        "\n",
        "## Notebook 3: Quantum Resource Estimation: A First Example\n",
        "\n",
        "-Sparse State Preparation\n",
        "\n",
        "## Notebook 4: Amplitude amplification with Grover\n",
        "\n",
        "## Notebook 5: Phase estimation\n",
        "\n",
        "## Notebook 6: ???\n",
        "\n",
        "- Looking for cryptographic estaimation thing\n",
        "\n",
        "\n",
        "\n",
        "\n",
        "  -"
      ],
      "metadata": {
        "id": "HPe6kheh6MfQ"
      }
    },
    {
      "cell_type": "code",
      "source": [],
      "metadata": {
        "id": "mu9uUiDYAR7G"
      },
      "execution_count": null,
      "outputs": []
    }
  ]
}